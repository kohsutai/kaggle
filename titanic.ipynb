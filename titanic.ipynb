{
 "cells": [
  {
   "cell_type": "code",
   "execution_count": 1,
   "id": "de6d6936",
   "metadata": {
    "_cell_guid": "b1076dfc-b9ad-4769-8c92-a6c4dae69d19",
    "_uuid": "8f2839f25d086af736a60e9eeb907d3b93b6e0e5",
    "execution": {
     "iopub.execute_input": "2022-01-24T15:40:52.539501Z",
     "iopub.status.busy": "2022-01-24T15:40:52.537679Z",
     "iopub.status.idle": "2022-01-24T15:40:52.555031Z",
     "shell.execute_reply": "2022-01-24T15:40:52.555557Z",
     "shell.execute_reply.started": "2022-01-24T15:30:11.542587Z"
    },
    "papermill": {
     "duration": 0.045413,
     "end_time": "2022-01-24T15:40:52.555893",
     "exception": false,
     "start_time": "2022-01-24T15:40:52.510480",
     "status": "completed"
    },
    "tags": []
   },
   "outputs": [
    {
     "name": "stdout",
     "output_type": "stream",
     "text": [
      "/kaggle/input/titanic/train.csv\n",
      "/kaggle/input/titanic/test.csv\n",
      "/kaggle/input/titanic/gender_submission.csv\n"
     ]
    }
   ],
   "source": [
    "# This Python 3 environment comes with many helpful analytics libraries installed\n",
    "# It is defined by the kaggle/python Docker image: https://github.com/kaggle/docker-python\n",
    "# For example, here's several helpful packages to load\n",
    "\n",
    "import numpy as np # linear algebra\n",
    "import pandas as pd # data processing, CSV file I/O (e.g. pd.read_csv)\n",
    "\n",
    "# Input data files are available in the read-only \"../input/\" directory\n",
    "# For example, running this (by clicking run or pressing Shift+Enter) will list all files under the input directory\n",
    "\n",
    "import os\n",
    "for dirname, _, filenames in os.walk('/kaggle/input'):\n",
    "    for filename in filenames:\n",
    "        print(os.path.join(dirname, filename))\n",
    "\n",
    "# You can write up to 20GB to the current directory (/kaggle/working/) that gets preserved as output when you create a version using \"Save & Run All\" \n",
    "# You can also write temporary files to /kaggle/temp/, but they won't be saved outside of the current session"
   ]
  },
  {
   "cell_type": "code",
   "execution_count": 2,
   "id": "24c9e8b0",
   "metadata": {
    "execution": {
     "iopub.execute_input": "2022-01-24T15:40:52.605128Z",
     "iopub.status.busy": "2022-01-24T15:40:52.604086Z",
     "iopub.status.idle": "2022-01-24T15:40:53.874318Z",
     "shell.execute_reply": "2022-01-24T15:40:53.873795Z",
     "shell.execute_reply.started": "2022-01-24T15:30:11.554926Z"
    },
    "papermill": {
     "duration": 1.295414,
     "end_time": "2022-01-24T15:40:53.874471",
     "exception": false,
     "start_time": "2022-01-24T15:40:52.579057",
     "status": "completed"
    },
    "tags": []
   },
   "outputs": [
    {
     "name": "stdout",
     "output_type": "stream",
     "text": [
      "(891, 12)\n",
      "(418, 11)\n"
     ]
    }
   ],
   "source": [
    "import matplotlib.pyplot as plt\n",
    "import seaborn as sns\n",
    "from sklearn.preprocessing import LabelEncoder\n",
    "\n",
    "sns.set_theme(style='darkgrid')\n",
    "df_train = pd.read_csv('../input/titanic/train.csv')\n",
    "df_test = pd.read_csv('../input/titanic/test.csv')\n",
    "\n",
    "print(df_train.shape)\n",
    "print(df_test.shape)"
   ]
  },
  {
   "cell_type": "code",
   "execution_count": 3,
   "id": "ada5c5a5",
   "metadata": {
    "execution": {
     "iopub.execute_input": "2022-01-24T15:40:53.921294Z",
     "iopub.status.busy": "2022-01-24T15:40:53.920598Z",
     "iopub.status.idle": "2022-01-24T15:40:53.954648Z",
     "shell.execute_reply": "2022-01-24T15:40:53.955269Z",
     "shell.execute_reply.started": "2022-01-24T15:30:11.584468Z"
    },
    "papermill": {
     "duration": 0.059035,
     "end_time": "2022-01-24T15:40:53.955444",
     "exception": false,
     "start_time": "2022-01-24T15:40:53.896409",
     "status": "completed"
    },
    "tags": []
   },
   "outputs": [
    {
     "data": {
      "text/html": [
       "<div>\n",
       "<style scoped>\n",
       "    .dataframe tbody tr th:only-of-type {\n",
       "        vertical-align: middle;\n",
       "    }\n",
       "\n",
       "    .dataframe tbody tr th {\n",
       "        vertical-align: top;\n",
       "    }\n",
       "\n",
       "    .dataframe thead th {\n",
       "        text-align: right;\n",
       "    }\n",
       "</style>\n",
       "<table border=\"1\" class=\"dataframe\">\n",
       "  <thead>\n",
       "    <tr style=\"text-align: right;\">\n",
       "      <th></th>\n",
       "      <th>PassengerId</th>\n",
       "      <th>Survived</th>\n",
       "      <th>Pclass</th>\n",
       "      <th>Name</th>\n",
       "      <th>Sex</th>\n",
       "      <th>Age</th>\n",
       "      <th>SibSp</th>\n",
       "      <th>Parch</th>\n",
       "      <th>Ticket</th>\n",
       "      <th>Fare</th>\n",
       "      <th>Cabin</th>\n",
       "      <th>Embarked</th>\n",
       "    </tr>\n",
       "  </thead>\n",
       "  <tbody>\n",
       "    <tr>\n",
       "      <th>0</th>\n",
       "      <td>1</td>\n",
       "      <td>0</td>\n",
       "      <td>3</td>\n",
       "      <td>Braund, Mr. Owen Harris</td>\n",
       "      <td>male</td>\n",
       "      <td>22.0</td>\n",
       "      <td>1</td>\n",
       "      <td>0</td>\n",
       "      <td>A/5 21171</td>\n",
       "      <td>7.2500</td>\n",
       "      <td>NaN</td>\n",
       "      <td>S</td>\n",
       "    </tr>\n",
       "    <tr>\n",
       "      <th>1</th>\n",
       "      <td>2</td>\n",
       "      <td>1</td>\n",
       "      <td>1</td>\n",
       "      <td>Cumings, Mrs. John Bradley (Florence Briggs Th...</td>\n",
       "      <td>female</td>\n",
       "      <td>38.0</td>\n",
       "      <td>1</td>\n",
       "      <td>0</td>\n",
       "      <td>PC 17599</td>\n",
       "      <td>71.2833</td>\n",
       "      <td>C85</td>\n",
       "      <td>C</td>\n",
       "    </tr>\n",
       "    <tr>\n",
       "      <th>2</th>\n",
       "      <td>3</td>\n",
       "      <td>1</td>\n",
       "      <td>3</td>\n",
       "      <td>Heikkinen, Miss. Laina</td>\n",
       "      <td>female</td>\n",
       "      <td>26.0</td>\n",
       "      <td>0</td>\n",
       "      <td>0</td>\n",
       "      <td>STON/O2. 3101282</td>\n",
       "      <td>7.9250</td>\n",
       "      <td>NaN</td>\n",
       "      <td>S</td>\n",
       "    </tr>\n",
       "    <tr>\n",
       "      <th>3</th>\n",
       "      <td>4</td>\n",
       "      <td>1</td>\n",
       "      <td>1</td>\n",
       "      <td>Futrelle, Mrs. Jacques Heath (Lily May Peel)</td>\n",
       "      <td>female</td>\n",
       "      <td>35.0</td>\n",
       "      <td>1</td>\n",
       "      <td>0</td>\n",
       "      <td>113803</td>\n",
       "      <td>53.1000</td>\n",
       "      <td>C123</td>\n",
       "      <td>S</td>\n",
       "    </tr>\n",
       "    <tr>\n",
       "      <th>4</th>\n",
       "      <td>5</td>\n",
       "      <td>0</td>\n",
       "      <td>3</td>\n",
       "      <td>Allen, Mr. William Henry</td>\n",
       "      <td>male</td>\n",
       "      <td>35.0</td>\n",
       "      <td>0</td>\n",
       "      <td>0</td>\n",
       "      <td>373450</td>\n",
       "      <td>8.0500</td>\n",
       "      <td>NaN</td>\n",
       "      <td>S</td>\n",
       "    </tr>\n",
       "    <tr>\n",
       "      <th>...</th>\n",
       "      <td>...</td>\n",
       "      <td>...</td>\n",
       "      <td>...</td>\n",
       "      <td>...</td>\n",
       "      <td>...</td>\n",
       "      <td>...</td>\n",
       "      <td>...</td>\n",
       "      <td>...</td>\n",
       "      <td>...</td>\n",
       "      <td>...</td>\n",
       "      <td>...</td>\n",
       "      <td>...</td>\n",
       "    </tr>\n",
       "    <tr>\n",
       "      <th>886</th>\n",
       "      <td>887</td>\n",
       "      <td>0</td>\n",
       "      <td>2</td>\n",
       "      <td>Montvila, Rev. Juozas</td>\n",
       "      <td>male</td>\n",
       "      <td>27.0</td>\n",
       "      <td>0</td>\n",
       "      <td>0</td>\n",
       "      <td>211536</td>\n",
       "      <td>13.0000</td>\n",
       "      <td>NaN</td>\n",
       "      <td>S</td>\n",
       "    </tr>\n",
       "    <tr>\n",
       "      <th>887</th>\n",
       "      <td>888</td>\n",
       "      <td>1</td>\n",
       "      <td>1</td>\n",
       "      <td>Graham, Miss. Margaret Edith</td>\n",
       "      <td>female</td>\n",
       "      <td>19.0</td>\n",
       "      <td>0</td>\n",
       "      <td>0</td>\n",
       "      <td>112053</td>\n",
       "      <td>30.0000</td>\n",
       "      <td>B42</td>\n",
       "      <td>S</td>\n",
       "    </tr>\n",
       "    <tr>\n",
       "      <th>888</th>\n",
       "      <td>889</td>\n",
       "      <td>0</td>\n",
       "      <td>3</td>\n",
       "      <td>Johnston, Miss. Catherine Helen \"Carrie\"</td>\n",
       "      <td>female</td>\n",
       "      <td>NaN</td>\n",
       "      <td>1</td>\n",
       "      <td>2</td>\n",
       "      <td>W./C. 6607</td>\n",
       "      <td>23.4500</td>\n",
       "      <td>NaN</td>\n",
       "      <td>S</td>\n",
       "    </tr>\n",
       "    <tr>\n",
       "      <th>889</th>\n",
       "      <td>890</td>\n",
       "      <td>1</td>\n",
       "      <td>1</td>\n",
       "      <td>Behr, Mr. Karl Howell</td>\n",
       "      <td>male</td>\n",
       "      <td>26.0</td>\n",
       "      <td>0</td>\n",
       "      <td>0</td>\n",
       "      <td>111369</td>\n",
       "      <td>30.0000</td>\n",
       "      <td>C148</td>\n",
       "      <td>C</td>\n",
       "    </tr>\n",
       "    <tr>\n",
       "      <th>890</th>\n",
       "      <td>891</td>\n",
       "      <td>0</td>\n",
       "      <td>3</td>\n",
       "      <td>Dooley, Mr. Patrick</td>\n",
       "      <td>male</td>\n",
       "      <td>32.0</td>\n",
       "      <td>0</td>\n",
       "      <td>0</td>\n",
       "      <td>370376</td>\n",
       "      <td>7.7500</td>\n",
       "      <td>NaN</td>\n",
       "      <td>Q</td>\n",
       "    </tr>\n",
       "  </tbody>\n",
       "</table>\n",
       "<p>891 rows × 12 columns</p>\n",
       "</div>"
      ],
      "text/plain": [
       "     PassengerId  Survived  Pclass  \\\n",
       "0              1         0       3   \n",
       "1              2         1       1   \n",
       "2              3         1       3   \n",
       "3              4         1       1   \n",
       "4              5         0       3   \n",
       "..           ...       ...     ...   \n",
       "886          887         0       2   \n",
       "887          888         1       1   \n",
       "888          889         0       3   \n",
       "889          890         1       1   \n",
       "890          891         0       3   \n",
       "\n",
       "                                                  Name     Sex   Age  SibSp  \\\n",
       "0                              Braund, Mr. Owen Harris    male  22.0      1   \n",
       "1    Cumings, Mrs. John Bradley (Florence Briggs Th...  female  38.0      1   \n",
       "2                               Heikkinen, Miss. Laina  female  26.0      0   \n",
       "3         Futrelle, Mrs. Jacques Heath (Lily May Peel)  female  35.0      1   \n",
       "4                             Allen, Mr. William Henry    male  35.0      0   \n",
       "..                                                 ...     ...   ...    ...   \n",
       "886                              Montvila, Rev. Juozas    male  27.0      0   \n",
       "887                       Graham, Miss. Margaret Edith  female  19.0      0   \n",
       "888           Johnston, Miss. Catherine Helen \"Carrie\"  female   NaN      1   \n",
       "889                              Behr, Mr. Karl Howell    male  26.0      0   \n",
       "890                                Dooley, Mr. Patrick    male  32.0      0   \n",
       "\n",
       "     Parch            Ticket     Fare Cabin Embarked  \n",
       "0        0         A/5 21171   7.2500   NaN        S  \n",
       "1        0          PC 17599  71.2833   C85        C  \n",
       "2        0  STON/O2. 3101282   7.9250   NaN        S  \n",
       "3        0            113803  53.1000  C123        S  \n",
       "4        0            373450   8.0500   NaN        S  \n",
       "..     ...               ...      ...   ...      ...  \n",
       "886      0            211536  13.0000   NaN        S  \n",
       "887      0            112053  30.0000   B42        S  \n",
       "888      2        W./C. 6607  23.4500   NaN        S  \n",
       "889      0            111369  30.0000  C148        C  \n",
       "890      0            370376   7.7500   NaN        Q  \n",
       "\n",
       "[891 rows x 12 columns]"
      ]
     },
     "execution_count": 3,
     "metadata": {},
     "output_type": "execute_result"
    }
   ],
   "source": [
    "df_train"
   ]
  },
  {
   "cell_type": "code",
   "execution_count": 4,
   "id": "00c62c73",
   "metadata": {
    "execution": {
     "iopub.execute_input": "2022-01-24T15:40:54.004109Z",
     "iopub.status.busy": "2022-01-24T15:40:54.003468Z",
     "iopub.status.idle": "2022-01-24T15:40:54.031392Z",
     "shell.execute_reply": "2022-01-24T15:40:54.032202Z",
     "shell.execute_reply.started": "2022-01-24T15:30:11.611947Z"
    },
    "papermill": {
     "duration": 0.054332,
     "end_time": "2022-01-24T15:40:54.032437",
     "exception": false,
     "start_time": "2022-01-24T15:40:53.978105",
     "status": "completed"
    },
    "tags": []
   },
   "outputs": [
    {
     "name": "stdout",
     "output_type": "stream",
     "text": [
      "<class 'pandas.core.frame.DataFrame'>\n",
      "RangeIndex: 891 entries, 0 to 890\n",
      "Data columns (total 12 columns):\n",
      " #   Column       Non-Null Count  Dtype  \n",
      "---  ------       --------------  -----  \n",
      " 0   PassengerId  891 non-null    int64  \n",
      " 1   Survived     891 non-null    int64  \n",
      " 2   Pclass       891 non-null    int64  \n",
      " 3   Name         891 non-null    object \n",
      " 4   Sex          891 non-null    object \n",
      " 5   Age          714 non-null    float64\n",
      " 6   SibSp        891 non-null    int64  \n",
      " 7   Parch        891 non-null    int64  \n",
      " 8   Ticket       891 non-null    object \n",
      " 9   Fare         891 non-null    float64\n",
      " 10  Cabin        204 non-null    object \n",
      " 11  Embarked     889 non-null    object \n",
      "dtypes: float64(2), int64(5), object(5)\n",
      "memory usage: 83.7+ KB\n"
     ]
    }
   ],
   "source": [
    "df_train.info()"
   ]
  },
  {
   "cell_type": "code",
   "execution_count": 5,
   "id": "90e080a3",
   "metadata": {
    "execution": {
     "iopub.execute_input": "2022-01-24T15:40:54.083457Z",
     "iopub.status.busy": "2022-01-24T15:40:54.082801Z",
     "iopub.status.idle": "2022-01-24T15:40:55.302043Z",
     "shell.execute_reply": "2022-01-24T15:40:55.302736Z",
     "shell.execute_reply.started": "2022-01-24T15:30:11.633312Z"
    },
    "papermill": {
     "duration": 1.245999,
     "end_time": "2022-01-24T15:40:55.302928",
     "exception": false,
     "start_time": "2022-01-24T15:40:54.056929",
     "status": "completed"
    },
    "tags": []
   },
   "outputs": [
    {
     "data": {
      "text/plain": [
       "<AxesSubplot:xlabel='Embarked', ylabel='count'>"
      ]
     },
     "execution_count": 5,
     "metadata": {},
     "output_type": "execute_result"
    },
    {
     "data": {
      "image/png": "[encoded data removed]",
      "text/plain": [
       "<Figure size 1440x720 with 6 Axes>"
      ]
     },
     "metadata": {},
     "output_type": "display_data"
    }
   ],
   "source": [
    "fig, axs = plt.subplots(2, 3, figsize=(20, 10))\n",
    "\n",
    "sns.countplot(ax=axs[0,0], data=df_train, x='Survived')\n",
    "sns.countplot(ax=axs[0,1], data=df_train, x='Pclass', hue='Survived')\n",
    "sns.countplot(ax=axs[0,2], data=df_train, x='Sex', hue='Survived')\n",
    "sns.countplot(ax=axs[1,0], data=df_train, x='SibSp', hue='Survived')\n",
    "sns.countplot(ax=axs[1,1], data=df_train, x='Parch', hue='Survived')\n",
    "sns.countplot(ax=axs[1,2], data=df_train, x='Embarked', hue='Survived')"
   ]
  },
  {
   "cell_type": "code",
   "execution_count": 6,
   "id": "7ea04252",
   "metadata": {
    "execution": {
     "iopub.execute_input": "2022-01-24T15:40:55.355445Z",
     "iopub.status.busy": "2022-01-24T15:40:55.354818Z",
     "iopub.status.idle": "2022-01-24T15:40:55.363082Z",
     "shell.execute_reply": "2022-01-24T15:40:55.363638Z",
     "shell.execute_reply.started": "2022-01-24T15:30:12.826632Z"
    },
    "papermill": {
     "duration": 0.036069,
     "end_time": "2022-01-24T15:40:55.363823",
     "exception": false,
     "start_time": "2022-01-24T15:40:55.327754",
     "status": "completed"
    },
    "tags": []
   },
   "outputs": [
    {
     "data": {
      "text/plain": [
       "PassengerId      0\n",
       "Survived         0\n",
       "Pclass           0\n",
       "Name             0\n",
       "Sex              0\n",
       "Age            177\n",
       "SibSp            0\n",
       "Parch            0\n",
       "Ticket           0\n",
       "Fare             0\n",
       "Cabin          687\n",
       "Embarked         2\n",
       "dtype: int64"
      ]
     },
     "execution_count": 6,
     "metadata": {},
     "output_type": "execute_result"
    }
   ],
   "source": [
    "# Check missing value\n",
    "df_train.isnull().sum()"
   ]
  },
  {
   "cell_type": "code",
   "execution_count": 7,
   "id": "a15a4984",
   "metadata": {
    "execution": {
     "iopub.execute_input": "2022-01-24T15:40:55.417321Z",
     "iopub.status.busy": "2022-01-24T15:40:55.416627Z",
     "iopub.status.idle": "2022-01-24T15:40:55.450418Z",
     "shell.execute_reply": "2022-01-24T15:40:55.450903Z",
     "shell.execute_reply.started": "2022-01-24T15:30:12.836895Z"
    },
    "papermill": {
     "duration": 0.062003,
     "end_time": "2022-01-24T15:40:55.451083",
     "exception": false,
     "start_time": "2022-01-24T15:40:55.389080",
     "status": "completed"
    },
    "tags": []
   },
   "outputs": [
    {
     "data": {
      "text/html": [
       "<div>\n",
       "<style scoped>\n",
       "    .dataframe tbody tr th:only-of-type {\n",
       "        vertical-align: middle;\n",
       "    }\n",
       "\n",
       "    .dataframe tbody tr th {\n",
       "        vertical-align: top;\n",
       "    }\n",
       "\n",
       "    .dataframe thead th {\n",
       "        text-align: right;\n",
       "    }\n",
       "</style>\n",
       "<table border=\"1\" class=\"dataframe\">\n",
       "  <thead>\n",
       "    <tr style=\"text-align: right;\">\n",
       "      <th>Sex</th>\n",
       "      <th>female</th>\n",
       "      <th>male</th>\n",
       "    </tr>\n",
       "    <tr>\n",
       "      <th>Title</th>\n",
       "      <th></th>\n",
       "      <th></th>\n",
       "    </tr>\n",
       "  </thead>\n",
       "  <tbody>\n",
       "    <tr>\n",
       "      <th>Capt</th>\n",
       "      <td>0</td>\n",
       "      <td>1</td>\n",
       "    </tr>\n",
       "    <tr>\n",
       "      <th>Col</th>\n",
       "      <td>0</td>\n",
       "      <td>2</td>\n",
       "    </tr>\n",
       "    <tr>\n",
       "      <th>Countess</th>\n",
       "      <td>1</td>\n",
       "      <td>0</td>\n",
       "    </tr>\n",
       "    <tr>\n",
       "      <th>Don</th>\n",
       "      <td>0</td>\n",
       "      <td>1</td>\n",
       "    </tr>\n",
       "    <tr>\n",
       "      <th>Dr</th>\n",
       "      <td>1</td>\n",
       "      <td>6</td>\n",
       "    </tr>\n",
       "    <tr>\n",
       "      <th>Jonkheer</th>\n",
       "      <td>0</td>\n",
       "      <td>1</td>\n",
       "    </tr>\n",
       "    <tr>\n",
       "      <th>Lady</th>\n",
       "      <td>1</td>\n",
       "      <td>0</td>\n",
       "    </tr>\n",
       "    <tr>\n",
       "      <th>Major</th>\n",
       "      <td>0</td>\n",
       "      <td>2</td>\n",
       "    </tr>\n",
       "    <tr>\n",
       "      <th>Master</th>\n",
       "      <td>0</td>\n",
       "      <td>40</td>\n",
       "    </tr>\n",
       "    <tr>\n",
       "      <th>Miss</th>\n",
       "      <td>182</td>\n",
       "      <td>0</td>\n",
       "    </tr>\n",
       "    <tr>\n",
       "      <th>Mlle</th>\n",
       "      <td>2</td>\n",
       "      <td>0</td>\n",
       "    </tr>\n",
       "    <tr>\n",
       "      <th>Mme</th>\n",
       "      <td>1</td>\n",
       "      <td>0</td>\n",
       "    </tr>\n",
       "    <tr>\n",
       "      <th>Mr</th>\n",
       "      <td>0</td>\n",
       "      <td>517</td>\n",
       "    </tr>\n",
       "    <tr>\n",
       "      <th>Mrs</th>\n",
       "      <td>125</td>\n",
       "      <td>0</td>\n",
       "    </tr>\n",
       "    <tr>\n",
       "      <th>Ms</th>\n",
       "      <td>1</td>\n",
       "      <td>0</td>\n",
       "    </tr>\n",
       "    <tr>\n",
       "      <th>Rev</th>\n",
       "      <td>0</td>\n",
       "      <td>6</td>\n",
       "    </tr>\n",
       "    <tr>\n",
       "      <th>Sir</th>\n",
       "      <td>0</td>\n",
       "      <td>1</td>\n",
       "    </tr>\n",
       "  </tbody>\n",
       "</table>\n",
       "</div>"
      ],
      "text/plain": [
       "Sex       female  male\n",
       "Title                 \n",
       "Capt           0     1\n",
       "Col            0     2\n",
       "Countess       1     0\n",
       "Don            0     1\n",
       "Dr             1     6\n",
       "Jonkheer       0     1\n",
       "Lady           1     0\n",
       "Major          0     2\n",
       "Master         0    40\n",
       "Miss         182     0\n",
       "Mlle           2     0\n",
       "Mme            1     0\n",
       "Mr             0   517\n",
       "Mrs          125     0\n",
       "Ms             1     0\n",
       "Rev            0     6\n",
       "Sir            0     1"
      ]
     },
     "execution_count": 7,
     "metadata": {},
     "output_type": "execute_result"
    }
   ],
   "source": [
    "# Extract 'Title' from 'Name'\n",
    "df_train['Title'] = df_train['Name'].str.extract('([A-Za-z]+)\\.', expand=False)\n",
    "df_test['Title'] = df_test['Name'].str.extract('([A-Za-z]+)\\.', expand=False)\n",
    "pd.crosstab(df_train['Title'], df_train['Sex'])"
   ]
  },
  {
   "cell_type": "code",
   "execution_count": 8,
   "id": "42b1cc3f",
   "metadata": {
    "execution": {
     "iopub.execute_input": "2022-01-24T15:40:55.507525Z",
     "iopub.status.busy": "2022-01-24T15:40:55.506843Z",
     "iopub.status.idle": "2022-01-24T15:40:55.525747Z",
     "shell.execute_reply": "2022-01-24T15:40:55.526279Z",
     "shell.execute_reply.started": "2022-01-24T15:30:12.873931Z"
    },
    "papermill": {
     "duration": 0.049665,
     "end_time": "2022-01-24T15:40:55.526450",
     "exception": false,
     "start_time": "2022-01-24T15:40:55.476785",
     "status": "completed"
    },
    "tags": []
   },
   "outputs": [],
   "source": [
    "# Mapping\n",
    "df_train['Title'] = df_train['Title'].replace(['Capt', 'Col', 'Countess', 'Don', 'Dr', 'Jonkheer', 'Major', 'Mlle', 'Mme', 'Rev'], 'Other')\n",
    "df_train['Title'] = df_train['Title'].replace(['Lady', 'Ms'], 'Miss')\n",
    "df_train['Title'] = df_train['Title'].replace('Sir', 'Mr')\n",
    "\n",
    "df_test['Title'] = df_test['Title'].replace(['Capt', 'Col', 'Countess', 'Don', 'Dr', 'Jonkheer', 'Major', 'Mlle', 'Mme', 'Rev'], 'Other')\n",
    "df_test['Title'] = df_test['Title'].replace(['Lady', 'Ms'], 'Miss')\n",
    "df_test['Title'] = df_test['Title'].replace('Sir', 'Mr')\n",
    "\n",
    "encoder = LabelEncoder()\n",
    "df_train['Title'] = encoder.fit_transform(df_train['Title'])\n",
    "df_train['Title'] = df_train['Title'].fillna(0)\n",
    "df_test['Title'] = encoder.fit_transform(df_test['Title'])\n",
    "df_test['Title'] = df_test['Title'].fillna(0)\n",
    "\n",
    "df_train['Sex'] = encoder.fit_transform(df_train['Sex'])\n",
    "df_test['Sex'] = encoder.fit_transform(df_test['Sex'])"
   ]
  },
  {
   "cell_type": "code",
   "execution_count": 9,
   "id": "d747718a",
   "metadata": {
    "execution": {
     "iopub.execute_input": "2022-01-24T15:40:55.581197Z",
     "iopub.status.busy": "2022-01-24T15:40:55.580525Z",
     "iopub.status.idle": "2022-01-24T15:40:55.588428Z",
     "shell.execute_reply": "2022-01-24T15:40:55.588978Z",
     "shell.execute_reply.started": "2022-01-24T15:30:12.897930Z"
    },
    "papermill": {
     "duration": 0.037037,
     "end_time": "2022-01-24T15:40:55.589158",
     "exception": false,
     "start_time": "2022-01-24T15:40:55.552121",
     "status": "completed"
    },
    "tags": []
   },
   "outputs": [],
   "source": [
    "# Fill missing value of 'Embarked' and map\n",
    "df_train['Embarked'] = df_train['Embarked'].fillna('S')\n",
    "df_train['Embarked'] = encoder.fit_transform(df_train['Embarked'])\n",
    "\n",
    "df_test['Embarked'] = df_test['Embarked'].fillna('S')\n",
    "df_test['Embarked'] = encoder.fit_transform(df_test['Embarked'])"
   ]
  },
  {
   "cell_type": "code",
   "execution_count": 10,
   "id": "0b9a6bd8",
   "metadata": {
    "execution": {
     "iopub.execute_input": "2022-01-24T15:40:55.643782Z",
     "iopub.status.busy": "2022-01-24T15:40:55.643057Z",
     "iopub.status.idle": "2022-01-24T15:40:56.680259Z",
     "shell.execute_reply": "2022-01-24T15:40:56.680818Z",
     "shell.execute_reply.started": "2022-01-24T15:30:12.907003Z"
    },
    "papermill": {
     "duration": 1.066168,
     "end_time": "2022-01-24T15:40:56.681004",
     "exception": false,
     "start_time": "2022-01-24T15:40:55.614836",
     "status": "completed"
    },
    "tags": []
   },
   "outputs": [
    {
     "data": {
      "text/plain": [
       "<seaborn.axisgrid.FacetGrid at 0x7fdb24965450>"
      ]
     },
     "execution_count": 10,
     "metadata": {},
     "output_type": "execute_result"
    },
    {
     "data": {
      "image/png": "[encoded data removed]",
      "text/plain": [
       "<Figure size 648x216 with 3 Axes>"
      ]
     },
     "metadata": {},
     "output_type": "display_data"
    }
   ],
   "source": [
    "# Plot the relationship between 'Pclass' and 'Age'\n",
    "grid = sns.FacetGrid(data=df_train, col='Pclass', height=3)\n",
    "grid.map(sns.histplot, 'Age')"
   ]
  },
  {
   "cell_type": "code",
   "execution_count": 11,
   "id": "084d73b0",
   "metadata": {
    "execution": {
     "iopub.execute_input": "2022-01-24T15:40:56.738089Z",
     "iopub.status.busy": "2022-01-24T15:40:56.737396Z",
     "iopub.status.idle": "2022-01-24T15:40:56.773766Z",
     "shell.execute_reply": "2022-01-24T15:40:56.773062Z",
     "shell.execute_reply.started": "2022-01-24T15:30:13.932133Z"
    },
    "papermill": {
     "duration": 0.065904,
     "end_time": "2022-01-24T15:40:56.773915",
     "exception": false,
     "start_time": "2022-01-24T15:40:56.708011",
     "status": "completed"
    },
    "tags": []
   },
   "outputs": [],
   "source": [
    "# Fill the null values of 'Age' with median 'Age' value in the specific 'Pclass'\n",
    "# Split 'Age' into 5 groups and map\n",
    "df_train.loc[(df_train['Age'].isnull() == True) & (df_train['Pclass'] == 3), 'Age'] = df_train.loc[df_train['Pclass'] == 3, 'Age'].median()\n",
    "df_train.loc[(df_train['Age'].isnull() == True) & (df_train['Pclass'] == 2), 'Age'] = df_train.loc[df_train['Pclass'] == 2, 'Age'].median()\n",
    "df_train.loc[(df_train['Age'].isnull() == True) & (df_train['Pclass'] == 1), 'Age'] = df_train.loc[df_train['Pclass'] == 1, 'Age'].median()\n",
    "\n",
    "df_test.loc[(df_test['Age'].isnull() == True) & (df_test['Pclass'] == 3), 'Age'] = df_test.loc[df_test['Pclass'] == 3, 'Age'].median()\n",
    "df_test.loc[(df_test['Age'].isnull() == True) & (df_test['Pclass'] == 2), 'Age'] = df_test.loc[df_test['Pclass'] == 2, 'Age'].median()\n",
    "df_test.loc[(df_test['Age'].isnull() == True) & (df_test['Pclass'] == 1), 'Age'] = df_test.loc[df_test['Pclass'] == 1, 'Age'].median()\n",
    "\n",
    "df_train['Age_bin'] = pd.cut(df_train['Age'], bins=[0, 15, 30, 45, 65, 90])\n",
    "df_train['Age_bin'] = encoder.fit_transform(df_train['Age_bin'])\n",
    "\n",
    "df_test['Age_bin'] = pd.cut(df_test['Age'], bins=[0, 15, 30, 45, 65, 90])\n",
    "df_test['Age_bin'] = encoder.fit_transform(df_test['Age_bin'])"
   ]
  },
  {
   "cell_type": "code",
   "execution_count": 12,
   "id": "675ca5b5",
   "metadata": {
    "execution": {
     "iopub.execute_input": "2022-01-24T15:40:56.864161Z",
     "iopub.status.busy": "2022-01-24T15:40:56.856379Z",
     "iopub.status.idle": "2022-01-24T15:40:57.132998Z",
     "shell.execute_reply": "2022-01-24T15:40:57.132332Z",
     "shell.execute_reply.started": "2022-01-24T15:30:13.968155Z"
    },
    "papermill": {
     "duration": 0.332237,
     "end_time": "2022-01-24T15:40:57.133146",
     "exception": false,
     "start_time": "2022-01-24T15:40:56.800909",
     "status": "completed"
    },
    "tags": []
   },
   "outputs": [
    {
     "data": {
      "text/plain": [
       "<AxesSubplot:xlabel='PassengerId', ylabel='Fare'>"
      ]
     },
     "execution_count": 12,
     "metadata": {},
     "output_type": "execute_result"
    },
    {
     "data": {
      "image/png": "[encoded data removed]",
      "text/plain": [
       "<Figure size 432x288 with 1 Axes>"
      ]
     },
     "metadata": {},
     "output_type": "display_data"
    }
   ],
   "source": [
    "# Check outliers of 'Fare'\n",
    "sns.scatterplot(data=df_train, x='PassengerId', y='Fare')"
   ]
  },
  {
   "cell_type": "markdown",
   "id": "02c1b6d0",
   "metadata": {
    "papermill": {
     "duration": 0.02792,
     "end_time": "2022-01-24T15:40:57.189262",
     "exception": false,
     "start_time": "2022-01-24T15:40:57.161342",
     "status": "completed"
    },
    "tags": []
   },
   "source": []
  },
  {
   "cell_type": "code",
   "execution_count": 13,
   "id": "3aa6ac6c",
   "metadata": {
    "execution": {
     "iopub.execute_input": "2022-01-24T15:40:57.265386Z",
     "iopub.status.busy": "2022-01-24T15:40:57.264418Z",
     "iopub.status.idle": "2022-01-24T15:40:57.268544Z",
     "shell.execute_reply": "2022-01-24T15:40:57.267914Z",
     "shell.execute_reply.started": "2022-01-24T15:30:14.213088Z"
    },
    "papermill": {
     "duration": 0.050811,
     "end_time": "2022-01-24T15:40:57.268705",
     "exception": false,
     "start_time": "2022-01-24T15:40:57.217894",
     "status": "completed"
    },
    "tags": []
   },
   "outputs": [
    {
     "data": {
      "text/html": [
       "<div>\n",
       "<style scoped>\n",
       "    .dataframe tbody tr th:only-of-type {\n",
       "        vertical-align: middle;\n",
       "    }\n",
       "\n",
       "    .dataframe tbody tr th {\n",
       "        vertical-align: top;\n",
       "    }\n",
       "\n",
       "    .dataframe thead th {\n",
       "        text-align: right;\n",
       "    }\n",
       "</style>\n",
       "<table border=\"1\" class=\"dataframe\">\n",
       "  <thead>\n",
       "    <tr style=\"text-align: right;\">\n",
       "      <th></th>\n",
       "      <th>PassengerId</th>\n",
       "      <th>Survived</th>\n",
       "      <th>Pclass</th>\n",
       "      <th>Name</th>\n",
       "      <th>Sex</th>\n",
       "      <th>Age</th>\n",
       "      <th>SibSp</th>\n",
       "      <th>Parch</th>\n",
       "      <th>Ticket</th>\n",
       "      <th>Fare</th>\n",
       "      <th>Cabin</th>\n",
       "      <th>Embarked</th>\n",
       "      <th>Title</th>\n",
       "      <th>Age_bin</th>\n",
       "    </tr>\n",
       "  </thead>\n",
       "  <tbody>\n",
       "    <tr>\n",
       "      <th>258</th>\n",
       "      <td>259</td>\n",
       "      <td>1</td>\n",
       "      <td>1</td>\n",
       "      <td>Ward, Miss. Anna</td>\n",
       "      <td>0</td>\n",
       "      <td>35.0</td>\n",
       "      <td>0</td>\n",
       "      <td>0</td>\n",
       "      <td>PC 17755</td>\n",
       "      <td>84.154687</td>\n",
       "      <td>NaN</td>\n",
       "      <td>0</td>\n",
       "      <td>1</td>\n",
       "      <td>2</td>\n",
       "    </tr>\n",
       "    <tr>\n",
       "      <th>679</th>\n",
       "      <td>680</td>\n",
       "      <td>1</td>\n",
       "      <td>1</td>\n",
       "      <td>Cardeza, Mr. Thomas Drake Martinez</td>\n",
       "      <td>1</td>\n",
       "      <td>36.0</td>\n",
       "      <td>0</td>\n",
       "      <td>1</td>\n",
       "      <td>PC 17755</td>\n",
       "      <td>84.154687</td>\n",
       "      <td>B51 B53 B55</td>\n",
       "      <td>0</td>\n",
       "      <td>2</td>\n",
       "      <td>2</td>\n",
       "    </tr>\n",
       "    <tr>\n",
       "      <th>737</th>\n",
       "      <td>738</td>\n",
       "      <td>1</td>\n",
       "      <td>1</td>\n",
       "      <td>Lesurer, Mr. Gustave J</td>\n",
       "      <td>1</td>\n",
       "      <td>35.0</td>\n",
       "      <td>0</td>\n",
       "      <td>0</td>\n",
       "      <td>PC 17755</td>\n",
       "      <td>84.154687</td>\n",
       "      <td>B101</td>\n",
       "      <td>0</td>\n",
       "      <td>2</td>\n",
       "      <td>2</td>\n",
       "    </tr>\n",
       "  </tbody>\n",
       "</table>\n",
       "</div>"
      ],
      "text/plain": [
       "     PassengerId  Survived  Pclass                                Name  Sex  \\\n",
       "258          259         1       1                    Ward, Miss. Anna    0   \n",
       "679          680         1       1  Cardeza, Mr. Thomas Drake Martinez    1   \n",
       "737          738         1       1              Lesurer, Mr. Gustave J    1   \n",
       "\n",
       "      Age  SibSp  Parch    Ticket       Fare        Cabin  Embarked  Title  \\\n",
       "258  35.0      0      0  PC 17755  84.154687          NaN         0      1   \n",
       "679  36.0      0      1  PC 17755  84.154687  B51 B53 B55         0      2   \n",
       "737  35.0      0      0  PC 17755  84.154687         B101         0      2   \n",
       "\n",
       "     Age_bin  \n",
       "258        2  \n",
       "679        2  \n",
       "737        2  "
      ]
     },
     "execution_count": 13,
     "metadata": {},
     "output_type": "execute_result"
    }
   ],
   "source": [
    "# Since all three outliers are in 'Pclass' 1, replace the outliers of 'Fare' with mean value of 'Fare' in 'Pclass' 1\n",
    "outlier_index = df_train.loc[df_train['Fare'] > 500].index\n",
    "df_train.loc[df_train['Fare'] > 500, 'Fare'] = df_train.loc[df_train['Pclass'] == 1, 'Fare'].mean()\n",
    "df_train.iloc[outlier_index]"
   ]
  },
  {
   "cell_type": "code",
   "execution_count": 14,
   "id": "99507368",
   "metadata": {
    "execution": {
     "iopub.execute_input": "2022-01-24T15:40:57.340614Z",
     "iopub.status.busy": "2022-01-24T15:40:57.339580Z",
     "iopub.status.idle": "2022-01-24T15:40:57.342409Z",
     "shell.execute_reply": "2022-01-24T15:40:57.341795Z",
     "shell.execute_reply.started": "2022-01-24T15:30:14.235416Z"
    },
    "papermill": {
     "duration": 0.045199,
     "end_time": "2022-01-24T15:40:57.342549",
     "exception": false,
     "start_time": "2022-01-24T15:40:57.297350",
     "status": "completed"
    },
    "tags": []
   },
   "outputs": [],
   "source": [
    "# Fill null value of 'Fare' with median value and  take log on 'Fare'\n",
    "df_train['Fare'] = df_train['Fare'].fillna(df_train['Fare'].dropna().median())\n",
    "df_train['Log_Fare'] = df_train['Fare'].apply(lambda x: np.log(x) if x > 0 else 0)\n",
    "\n",
    "df_test['Fare'] = df_test['Fare'].fillna(df_test['Fare'].dropna().median())\n",
    "df_test['Log_Fare'] = df_test['Fare'].apply(lambda x: np.log(x) if x > 0 else 0)"
   ]
  },
  {
   "cell_type": "code",
   "execution_count": 15,
   "id": "b6032f94",
   "metadata": {
    "execution": {
     "iopub.execute_input": "2022-01-24T15:40:57.414786Z",
     "iopub.status.busy": "2022-01-24T15:40:57.406609Z",
     "iopub.status.idle": "2022-01-24T15:40:57.416874Z",
     "shell.execute_reply": "2022-01-24T15:40:57.417489Z",
     "shell.execute_reply.started": "2022-01-24T15:30:14.250009Z"
    },
    "papermill": {
     "duration": 0.046304,
     "end_time": "2022-01-24T15:40:57.417674",
     "exception": false,
     "start_time": "2022-01-24T15:40:57.371370",
     "status": "completed"
    },
    "tags": []
   },
   "outputs": [],
   "source": [
    "# Create 'Family_size' and 'Alone' feature\n",
    "df_train['Family_size'] = df_train['SibSp']+df_train['Parch']+1\n",
    "df_train['Alone'] = 0\n",
    "df_train.loc[df_train['Family_size'] == 1 , 'Alone'] = 1\n",
    "\n",
    "df_test['Family_size'] = df_test['SibSp']+df_train['Parch']+1\n",
    "df_test['Alone'] = 0\n",
    "df_test.loc[df_test['Family_size'] == 1 , 'Alone'] = 1"
   ]
  },
  {
   "cell_type": "code",
   "execution_count": 16,
   "id": "a67d7637",
   "metadata": {
    "execution": {
     "iopub.execute_input": "2022-01-24T15:40:57.481278Z",
     "iopub.status.busy": "2022-01-24T15:40:57.480236Z",
     "iopub.status.idle": "2022-01-24T15:40:58.539330Z",
     "shell.execute_reply": "2022-01-24T15:40:58.539860Z",
     "shell.execute_reply.started": "2022-01-24T15:30:14.266457Z"
    },
    "papermill": {
     "duration": 1.093162,
     "end_time": "2022-01-24T15:40:58.540034",
     "exception": false,
     "start_time": "2022-01-24T15:40:57.446872",
     "status": "completed"
    },
    "tags": []
   },
   "outputs": [
    {
     "data": {
      "text/plain": [
       "<AxesSubplot:xlabel='Alone', ylabel='count'>"
      ]
     },
     "execution_count": 16,
     "metadata": {},
     "output_type": "execute_result"
    },
    {
     "data": {
      "image/png": "[encoded data removed]",
      "text/plain": [
       "<Figure size 1440x360 with 4 Axes>"
      ]
     },
     "metadata": {},
     "output_type": "display_data"
    }
   ],
   "source": [
    "fig, axs = plt.subplots(1, 4, figsize=(20, 5))\n",
    "\n",
    "sns.countplot(ax=axs[0], data=df_train, x='Title', hue='Survived')\n",
    "sns.countplot(ax=axs[1], data=df_train, x='Age_bin', hue='Survived')\n",
    "sns.countplot(ax=axs[2], data=df_train, x='Family_size', hue='Survived')\n",
    "sns.countplot(ax=axs[3], data=df_train, x='Alone', hue='Survived')"
   ]
  },
  {
   "cell_type": "code",
   "execution_count": 17,
   "id": "8b80dc63",
   "metadata": {
    "execution": {
     "iopub.execute_input": "2022-01-24T15:40:58.605327Z",
     "iopub.status.busy": "2022-01-24T15:40:58.604298Z",
     "iopub.status.idle": "2022-01-24T15:40:58.612483Z",
     "shell.execute_reply": "2022-01-24T15:40:58.613034Z",
     "shell.execute_reply.started": "2022-01-24T15:30:15.140705Z"
    },
    "papermill": {
     "duration": 0.042723,
     "end_time": "2022-01-24T15:40:58.613213",
     "exception": false,
     "start_time": "2022-01-24T15:40:58.570490",
     "status": "completed"
    },
    "tags": []
   },
   "outputs": [],
   "source": [
    "# Drop some columns\n",
    "df_train = df_train.drop(['PassengerId', 'Name', 'Age', 'SibSp', 'Parch', 'Ticket', 'Fare', 'Cabin', 'Family_size'], axis=1)\n",
    "df_test = df_test.drop(['Name', 'Age', 'SibSp', 'Parch', 'Ticket', 'Fare', 'Cabin', 'Family_size'], axis=1)"
   ]
  },
  {
   "cell_type": "code",
   "execution_count": 18,
   "id": "e7e94233",
   "metadata": {
    "execution": {
     "iopub.execute_input": "2022-01-24T15:40:58.690244Z",
     "iopub.status.busy": "2022-01-24T15:40:58.689445Z",
     "iopub.status.idle": "2022-01-24T15:40:58.693800Z",
     "shell.execute_reply": "2022-01-24T15:40:58.693278Z",
     "shell.execute_reply.started": "2022-01-24T15:30:15.152596Z"
    },
    "papermill": {
     "duration": 0.049367,
     "end_time": "2022-01-24T15:40:58.693955",
     "exception": false,
     "start_time": "2022-01-24T15:40:58.644588",
     "status": "completed"
    },
    "tags": []
   },
   "outputs": [
    {
     "data": {
      "text/html": [
       "<div>\n",
       "<style scoped>\n",
       "    .dataframe tbody tr th:only-of-type {\n",
       "        vertical-align: middle;\n",
       "    }\n",
       "\n",
       "    .dataframe tbody tr th {\n",
       "        vertical-align: top;\n",
       "    }\n",
       "\n",
       "    .dataframe thead th {\n",
       "        text-align: right;\n",
       "    }\n",
       "</style>\n",
       "<table border=\"1\" class=\"dataframe\">\n",
       "  <thead>\n",
       "    <tr style=\"text-align: right;\">\n",
       "      <th></th>\n",
       "      <th>Survived</th>\n",
       "      <th>Pclass</th>\n",
       "      <th>Sex</th>\n",
       "      <th>Embarked</th>\n",
       "      <th>Title</th>\n",
       "      <th>Age_bin</th>\n",
       "      <th>Log_Fare</th>\n",
       "      <th>Alone</th>\n",
       "    </tr>\n",
       "  </thead>\n",
       "  <tbody>\n",
       "    <tr>\n",
       "      <th>0</th>\n",
       "      <td>0</td>\n",
       "      <td>3</td>\n",
       "      <td>1</td>\n",
       "      <td>2</td>\n",
       "      <td>2</td>\n",
       "      <td>1</td>\n",
       "      <td>1.981001</td>\n",
       "      <td>0</td>\n",
       "    </tr>\n",
       "    <tr>\n",
       "      <th>1</th>\n",
       "      <td>1</td>\n",
       "      <td>1</td>\n",
       "      <td>0</td>\n",
       "      <td>0</td>\n",
       "      <td>3</td>\n",
       "      <td>2</td>\n",
       "      <td>4.266662</td>\n",
       "      <td>0</td>\n",
       "    </tr>\n",
       "    <tr>\n",
       "      <th>2</th>\n",
       "      <td>1</td>\n",
       "      <td>3</td>\n",
       "      <td>0</td>\n",
       "      <td>2</td>\n",
       "      <td>1</td>\n",
       "      <td>1</td>\n",
       "      <td>2.070022</td>\n",
       "      <td>1</td>\n",
       "    </tr>\n",
       "    <tr>\n",
       "      <th>3</th>\n",
       "      <td>1</td>\n",
       "      <td>1</td>\n",
       "      <td>0</td>\n",
       "      <td>2</td>\n",
       "      <td>3</td>\n",
       "      <td>2</td>\n",
       "      <td>3.972177</td>\n",
       "      <td>0</td>\n",
       "    </tr>\n",
       "    <tr>\n",
       "      <th>4</th>\n",
       "      <td>0</td>\n",
       "      <td>3</td>\n",
       "      <td>1</td>\n",
       "      <td>2</td>\n",
       "      <td>2</td>\n",
       "      <td>2</td>\n",
       "      <td>2.085672</td>\n",
       "      <td>1</td>\n",
       "    </tr>\n",
       "    <tr>\n",
       "      <th>...</th>\n",
       "      <td>...</td>\n",
       "      <td>...</td>\n",
       "      <td>...</td>\n",
       "      <td>...</td>\n",
       "      <td>...</td>\n",
       "      <td>...</td>\n",
       "      <td>...</td>\n",
       "      <td>...</td>\n",
       "    </tr>\n",
       "    <tr>\n",
       "      <th>886</th>\n",
       "      <td>0</td>\n",
       "      <td>2</td>\n",
       "      <td>1</td>\n",
       "      <td>2</td>\n",
       "      <td>4</td>\n",
       "      <td>1</td>\n",
       "      <td>2.564949</td>\n",
       "      <td>1</td>\n",
       "    </tr>\n",
       "    <tr>\n",
       "      <th>887</th>\n",
       "      <td>1</td>\n",
       "      <td>1</td>\n",
       "      <td>0</td>\n",
       "      <td>2</td>\n",
       "      <td>1</td>\n",
       "      <td>1</td>\n",
       "      <td>3.401197</td>\n",
       "      <td>1</td>\n",
       "    </tr>\n",
       "    <tr>\n",
       "      <th>888</th>\n",
       "      <td>0</td>\n",
       "      <td>3</td>\n",
       "      <td>0</td>\n",
       "      <td>2</td>\n",
       "      <td>1</td>\n",
       "      <td>1</td>\n",
       "      <td>3.154870</td>\n",
       "      <td>0</td>\n",
       "    </tr>\n",
       "    <tr>\n",
       "      <th>889</th>\n",
       "      <td>1</td>\n",
       "      <td>1</td>\n",
       "      <td>1</td>\n",
       "      <td>0</td>\n",
       "      <td>2</td>\n",
       "      <td>1</td>\n",
       "      <td>3.401197</td>\n",
       "      <td>1</td>\n",
       "    </tr>\n",
       "    <tr>\n",
       "      <th>890</th>\n",
       "      <td>0</td>\n",
       "      <td>3</td>\n",
       "      <td>1</td>\n",
       "      <td>1</td>\n",
       "      <td>2</td>\n",
       "      <td>2</td>\n",
       "      <td>2.047693</td>\n",
       "      <td>1</td>\n",
       "    </tr>\n",
       "  </tbody>\n",
       "</table>\n",
       "<p>891 rows × 8 columns</p>\n",
       "</div>"
      ],
      "text/plain": [
       "     Survived  Pclass  Sex  Embarked  Title  Age_bin  Log_Fare  Alone\n",
       "0           0       3    1         2      2        1  1.981001      0\n",
       "1           1       1    0         0      3        2  4.266662      0\n",
       "2           1       3    0         2      1        1  2.070022      1\n",
       "3           1       1    0         2      3        2  3.972177      0\n",
       "4           0       3    1         2      2        2  2.085672      1\n",
       "..        ...     ...  ...       ...    ...      ...       ...    ...\n",
       "886         0       2    1         2      4        1  2.564949      1\n",
       "887         1       1    0         2      1        1  3.401197      1\n",
       "888         0       3    0         2      1        1  3.154870      0\n",
       "889         1       1    1         0      2        1  3.401197      1\n",
       "890         0       3    1         1      2        2  2.047693      1\n",
       "\n",
       "[891 rows x 8 columns]"
      ]
     },
     "execution_count": 18,
     "metadata": {},
     "output_type": "execute_result"
    }
   ],
   "source": [
    "df_train"
   ]
  },
  {
   "cell_type": "code",
   "execution_count": 19,
   "id": "5affa218",
   "metadata": {
    "execution": {
     "iopub.execute_input": "2022-01-24T15:40:58.772595Z",
     "iopub.status.busy": "2022-01-24T15:40:58.771910Z",
     "iopub.status.idle": "2022-01-24T15:40:58.775862Z",
     "shell.execute_reply": "2022-01-24T15:40:58.775312Z",
     "shell.execute_reply.started": "2022-01-24T15:30:15.174792Z"
    },
    "papermill": {
     "duration": 0.050517,
     "end_time": "2022-01-24T15:40:58.776006",
     "exception": false,
     "start_time": "2022-01-24T15:40:58.725489",
     "status": "completed"
    },
    "tags": []
   },
   "outputs": [
    {
     "data": {
      "text/html": [
       "<div>\n",
       "<style scoped>\n",
       "    .dataframe tbody tr th:only-of-type {\n",
       "        vertical-align: middle;\n",
       "    }\n",
       "\n",
       "    .dataframe tbody tr th {\n",
       "        vertical-align: top;\n",
       "    }\n",
       "\n",
       "    .dataframe thead th {\n",
       "        text-align: right;\n",
       "    }\n",
       "</style>\n",
       "<table border=\"1\" class=\"dataframe\">\n",
       "  <thead>\n",
       "    <tr style=\"text-align: right;\">\n",
       "      <th></th>\n",
       "      <th>PassengerId</th>\n",
       "      <th>Pclass</th>\n",
       "      <th>Sex</th>\n",
       "      <th>Embarked</th>\n",
       "      <th>Title</th>\n",
       "      <th>Age_bin</th>\n",
       "      <th>Log_Fare</th>\n",
       "      <th>Alone</th>\n",
       "    </tr>\n",
       "  </thead>\n",
       "  <tbody>\n",
       "    <tr>\n",
       "      <th>0</th>\n",
       "      <td>892</td>\n",
       "      <td>3</td>\n",
       "      <td>1</td>\n",
       "      <td>1</td>\n",
       "      <td>3</td>\n",
       "      <td>2</td>\n",
       "      <td>2.057860</td>\n",
       "      <td>1</td>\n",
       "    </tr>\n",
       "    <tr>\n",
       "      <th>1</th>\n",
       "      <td>893</td>\n",
       "      <td>3</td>\n",
       "      <td>0</td>\n",
       "      <td>2</td>\n",
       "      <td>4</td>\n",
       "      <td>3</td>\n",
       "      <td>1.945910</td>\n",
       "      <td>0</td>\n",
       "    </tr>\n",
       "    <tr>\n",
       "      <th>2</th>\n",
       "      <td>894</td>\n",
       "      <td>2</td>\n",
       "      <td>1</td>\n",
       "      <td>1</td>\n",
       "      <td>3</td>\n",
       "      <td>3</td>\n",
       "      <td>2.270836</td>\n",
       "      <td>1</td>\n",
       "    </tr>\n",
       "    <tr>\n",
       "      <th>3</th>\n",
       "      <td>895</td>\n",
       "      <td>3</td>\n",
       "      <td>1</td>\n",
       "      <td>2</td>\n",
       "      <td>3</td>\n",
       "      <td>1</td>\n",
       "      <td>2.159003</td>\n",
       "      <td>1</td>\n",
       "    </tr>\n",
       "    <tr>\n",
       "      <th>4</th>\n",
       "      <td>896</td>\n",
       "      <td>3</td>\n",
       "      <td>0</td>\n",
       "      <td>2</td>\n",
       "      <td>4</td>\n",
       "      <td>1</td>\n",
       "      <td>2.508582</td>\n",
       "      <td>0</td>\n",
       "    </tr>\n",
       "    <tr>\n",
       "      <th>...</th>\n",
       "      <td>...</td>\n",
       "      <td>...</td>\n",
       "      <td>...</td>\n",
       "      <td>...</td>\n",
       "      <td>...</td>\n",
       "      <td>...</td>\n",
       "      <td>...</td>\n",
       "      <td>...</td>\n",
       "    </tr>\n",
       "    <tr>\n",
       "      <th>413</th>\n",
       "      <td>1305</td>\n",
       "      <td>3</td>\n",
       "      <td>1</td>\n",
       "      <td>2</td>\n",
       "      <td>3</td>\n",
       "      <td>1</td>\n",
       "      <td>2.085672</td>\n",
       "      <td>1</td>\n",
       "    </tr>\n",
       "    <tr>\n",
       "      <th>414</th>\n",
       "      <td>1306</td>\n",
       "      <td>1</td>\n",
       "      <td>0</td>\n",
       "      <td>0</td>\n",
       "      <td>0</td>\n",
       "      <td>2</td>\n",
       "      <td>4.690430</td>\n",
       "      <td>1</td>\n",
       "    </tr>\n",
       "    <tr>\n",
       "      <th>415</th>\n",
       "      <td>1307</td>\n",
       "      <td>3</td>\n",
       "      <td>1</td>\n",
       "      <td>2</td>\n",
       "      <td>3</td>\n",
       "      <td>2</td>\n",
       "      <td>1.981001</td>\n",
       "      <td>1</td>\n",
       "    </tr>\n",
       "    <tr>\n",
       "      <th>416</th>\n",
       "      <td>1308</td>\n",
       "      <td>3</td>\n",
       "      <td>1</td>\n",
       "      <td>2</td>\n",
       "      <td>3</td>\n",
       "      <td>1</td>\n",
       "      <td>2.085672</td>\n",
       "      <td>0</td>\n",
       "    </tr>\n",
       "    <tr>\n",
       "      <th>417</th>\n",
       "      <td>1309</td>\n",
       "      <td>3</td>\n",
       "      <td>1</td>\n",
       "      <td>0</td>\n",
       "      <td>1</td>\n",
       "      <td>1</td>\n",
       "      <td>3.107198</td>\n",
       "      <td>0</td>\n",
       "    </tr>\n",
       "  </tbody>\n",
       "</table>\n",
       "<p>418 rows × 8 columns</p>\n",
       "</div>"
      ],
      "text/plain": [
       "     PassengerId  Pclass  Sex  Embarked  Title  Age_bin  Log_Fare  Alone\n",
       "0            892       3    1         1      3        2  2.057860      1\n",
       "1            893       3    0         2      4        3  1.945910      0\n",
       "2            894       2    1         1      3        3  2.270836      1\n",
       "3            895       3    1         2      3        1  2.159003      1\n",
       "4            896       3    0         2      4        1  2.508582      0\n",
       "..           ...     ...  ...       ...    ...      ...       ...    ...\n",
       "413         1305       3    1         2      3        1  2.085672      1\n",
       "414         1306       1    0         0      0        2  4.690430      1\n",
       "415         1307       3    1         2      3        2  1.981001      1\n",
       "416         1308       3    1         2      3        1  2.085672      0\n",
       "417         1309       3    1         0      1        1  3.107198      0\n",
       "\n",
       "[418 rows x 8 columns]"
      ]
     },
     "execution_count": 19,
     "metadata": {},
     "output_type": "execute_result"
    }
   ],
   "source": [
    "df_test"
   ]
  },
  {
   "cell_type": "code",
   "execution_count": 20,
   "id": "d2026ae9",
   "metadata": {
    "execution": {
     "iopub.execute_input": "2022-01-24T15:40:58.843232Z",
     "iopub.status.busy": "2022-01-24T15:40:58.842515Z",
     "iopub.status.idle": "2022-01-24T15:40:58.910612Z",
     "shell.execute_reply": "2022-01-24T15:40:58.910087Z",
     "shell.execute_reply.started": "2022-01-24T15:30:15.202391Z"
    },
    "papermill": {
     "duration": 0.103273,
     "end_time": "2022-01-24T15:40:58.910783",
     "exception": false,
     "start_time": "2022-01-24T15:40:58.807510",
     "status": "completed"
    },
    "tags": []
   },
   "outputs": [
    {
     "data": {
      "text/plain": [
       "((623, 7), (268, 7), (623,), (268,))"
      ]
     },
     "execution_count": 20,
     "metadata": {},
     "output_type": "execute_result"
    }
   ],
   "source": [
    "from sklearn.model_selection import train_test_split\n",
    "\n",
    "X = df_train.drop('Survived', axis=1)\n",
    "y = df_train['Survived']\n",
    "\n",
    "X_train, X_test, y_train, y_test = train_test_split(X, y, test_size=0.3, random_state=123)\n",
    "X_train.shape, X_test.shape, y_train.shape, y_test.shape"
   ]
  },
  {
   "cell_type": "code",
   "execution_count": 21,
   "id": "fa675628",
   "metadata": {
    "execution": {
     "iopub.execute_input": "2022-01-24T15:40:58.978889Z",
     "iopub.status.busy": "2022-01-24T15:40:58.978136Z",
     "iopub.status.idle": "2022-01-24T15:41:12.819699Z",
     "shell.execute_reply": "2022-01-24T15:41:12.820656Z",
     "shell.execute_reply.started": "2022-01-24T15:30:15.216072Z"
    },
    "papermill": {
     "duration": 13.877545,
     "end_time": "2022-01-24T15:41:12.820969",
     "exception": false,
     "start_time": "2022-01-24T15:40:58.943424",
     "status": "completed"
    },
    "tags": []
   },
   "outputs": [
    {
     "name": "stderr",
     "output_type": "stream",
     "text": [
      "/opt/conda/lib/python3.7/site-packages/sklearn/neural_network/_multilayer_perceptron.py:585: ConvergenceWarning: Stochastic Optimizer: Maximum iterations (200) reached and the optimization hasn't converged yet.\n",
      "  % self.max_iter, ConvergenceWarning)\n",
      "/opt/conda/lib/python3.7/site-packages/sklearn/neural_network/_multilayer_perceptron.py:585: ConvergenceWarning: Stochastic Optimizer: Maximum iterations (200) reached and the optimization hasn't converged yet.\n",
      "  % self.max_iter, ConvergenceWarning)\n",
      "/opt/conda/lib/python3.7/site-packages/sklearn/neural_network/_multilayer_perceptron.py:585: ConvergenceWarning: Stochastic Optimizer: Maximum iterations (200) reached and the optimization hasn't converged yet.\n",
      "  % self.max_iter, ConvergenceWarning)\n",
      "/opt/conda/lib/python3.7/site-packages/sklearn/neural_network/_multilayer_perceptron.py:585: ConvergenceWarning: Stochastic Optimizer: Maximum iterations (200) reached and the optimization hasn't converged yet.\n",
      "  % self.max_iter, ConvergenceWarning)\n",
      "/opt/conda/lib/python3.7/site-packages/sklearn/neural_network/_multilayer_perceptron.py:585: ConvergenceWarning: Stochastic Optimizer: Maximum iterations (200) reached and the optimization hasn't converged yet.\n",
      "  % self.max_iter, ConvergenceWarning)\n",
      "/opt/conda/lib/python3.7/site-packages/sklearn/neural_network/_multilayer_perceptron.py:585: ConvergenceWarning: Stochastic Optimizer: Maximum iterations (200) reached and the optimization hasn't converged yet.\n",
      "  % self.max_iter, ConvergenceWarning)\n",
      "/opt/conda/lib/python3.7/site-packages/sklearn/neural_network/_multilayer_perceptron.py:585: ConvergenceWarning: Stochastic Optimizer: Maximum iterations (200) reached and the optimization hasn't converged yet.\n",
      "  % self.max_iter, ConvergenceWarning)\n",
      "/opt/conda/lib/python3.7/site-packages/sklearn/neural_network/_multilayer_perceptron.py:585: ConvergenceWarning: Stochastic Optimizer: Maximum iterations (200) reached and the optimization hasn't converged yet.\n",
      "  % self.max_iter, ConvergenceWarning)\n",
      "/opt/conda/lib/python3.7/site-packages/sklearn/neural_network/_multilayer_perceptron.py:585: ConvergenceWarning: Stochastic Optimizer: Maximum iterations (200) reached and the optimization hasn't converged yet.\n",
      "  % self.max_iter, ConvergenceWarning)\n",
      "/opt/conda/lib/python3.7/site-packages/sklearn/neural_network/_multilayer_perceptron.py:585: ConvergenceWarning: Stochastic Optimizer: Maximum iterations (200) reached and the optimization hasn't converged yet.\n",
      "  % self.max_iter, ConvergenceWarning)\n"
     ]
    },
    {
     "data": {
      "text/html": [
       "<div>\n",
       "<style scoped>\n",
       "    .dataframe tbody tr th:only-of-type {\n",
       "        vertical-align: middle;\n",
       "    }\n",
       "\n",
       "    .dataframe tbody tr th {\n",
       "        vertical-align: top;\n",
       "    }\n",
       "\n",
       "    .dataframe thead th {\n",
       "        text-align: right;\n",
       "    }\n",
       "</style>\n",
       "<table border=\"1\" class=\"dataframe\">\n",
       "  <thead>\n",
       "    <tr style=\"text-align: right;\">\n",
       "      <th></th>\n",
       "      <th>Score</th>\n",
       "    </tr>\n",
       "  </thead>\n",
       "  <tbody>\n",
       "    <tr>\n",
       "      <th>SVC</th>\n",
       "      <td>0.8122</td>\n",
       "    </tr>\n",
       "    <tr>\n",
       "      <th>Gradient Boosting</th>\n",
       "      <td>0.8074</td>\n",
       "    </tr>\n",
       "    <tr>\n",
       "      <th>KNN</th>\n",
       "      <td>0.7964</td>\n",
       "    </tr>\n",
       "    <tr>\n",
       "      <th>Decision Tree</th>\n",
       "      <td>0.7866</td>\n",
       "    </tr>\n",
       "    <tr>\n",
       "      <th>Random Forest</th>\n",
       "      <td>0.7834</td>\n",
       "    </tr>\n",
       "    <tr>\n",
       "      <th>Logistic Regression</th>\n",
       "      <td>0.7816</td>\n",
       "    </tr>\n",
       "    <tr>\n",
       "      <th>Neural Netword</th>\n",
       "      <td>0.7769</td>\n",
       "    </tr>\n",
       "    <tr>\n",
       "      <th>Naive Bayes</th>\n",
       "      <td>0.7577</td>\n",
       "    </tr>\n",
       "  </tbody>\n",
       "</table>\n",
       "</div>"
      ],
      "text/plain": [
       "                      Score\n",
       "SVC                  0.8122\n",
       "Gradient Boosting    0.8074\n",
       "KNN                  0.7964\n",
       "Decision Tree        0.7866\n",
       "Random Forest        0.7834\n",
       "Logistic Regression  0.7816\n",
       "Neural Netword       0.7769\n",
       "Naive Bayes          0.7577"
      ]
     },
     "execution_count": 21,
     "metadata": {},
     "output_type": "execute_result"
    }
   ],
   "source": [
    "# Modeling\n",
    "from sklearn.neighbors import KNeighborsClassifier\n",
    "from sklearn.tree import DecisionTreeClassifier\n",
    "from sklearn.naive_bayes import GaussianNB\n",
    "from sklearn.linear_model import LogisticRegression\n",
    "from sklearn.ensemble import RandomForestClassifier, GradientBoostingClassifier\n",
    "from sklearn.svm import SVC\n",
    "from sklearn.neural_network import MLPClassifier\n",
    "from sklearn.metrics import accuracy_score, classification_report\n",
    "from sklearn.model_selection import cross_val_score, KFold, GridSearchCV\n",
    "\n",
    "\n",
    "knn = KNeighborsClassifier()\n",
    "dt = DecisionTreeClassifier()\n",
    "nb = GaussianNB()\n",
    "lr = LogisticRegression(solver='liblinear')\n",
    "rf = RandomForestClassifier()\n",
    "gb = GradientBoostingClassifier()\n",
    "svc = SVC()\n",
    "nn = MLPClassifier()\n",
    "\n",
    "cv = KFold(n_splits=10, shuffle=True, random_state=123)\n",
    "\n",
    "knn_score = round(cross_val_score(knn, X_train, y_train, cv=cv, scoring='accuracy').mean(), 4)\n",
    "dt_score = round(cross_val_score(dt, X_train, y_train, cv=cv, scoring='accuracy').mean(), 4)\n",
    "nb_score = round(cross_val_score(nb, X_train, y_train, cv=cv, scoring='accuracy').mean(), 4)\n",
    "lr_score = round(cross_val_score(lr, X_train, y_train, cv=cv, scoring='accuracy').mean(), 4)\n",
    "rf_score = round(cross_val_score(rf, X_train, y_train, cv=cv, scoring='accuracy').mean(), 4)\n",
    "gb_score = round(cross_val_score(gb, X_train, y_train, cv=cv, scoring='accuracy').mean(), 4)\n",
    "svc_score = round(cross_val_score(svc, X_train, y_train, cv=cv, scoring='accuracy').mean(), 4)\n",
    "nn_score = round(cross_val_score(nn, X_train, y_train, cv=cv, scoring='accuracy').mean(), 4)\n",
    "\n",
    "summary_dict = {'Score': [knn_score, dt_score, nb_score, lr_score, rf_score, gb_score, svc_score, nn_score]}\n",
    "\n",
    "summary = pd.DataFrame(data=summary_dict, index=['KNN', 'Decision Tree', 'Naive Bayes', 'Logistic Regression',\n",
    "                                                 'Random Forest', 'Gradient Boosting', 'SVC', 'Neural Netword'])\n",
    "summary.sort_values(by='Score', ascending=False)"
   ]
  },
  {
   "cell_type": "code",
   "execution_count": 22,
   "id": "15410bb3",
   "metadata": {
    "execution": {
     "iopub.execute_input": "2022-01-24T15:41:12.944048Z",
     "iopub.status.busy": "2022-01-24T15:41:12.943237Z",
     "iopub.status.idle": "2022-01-24T15:41:26.509732Z",
     "shell.execute_reply": "2022-01-24T15:41:26.510569Z",
     "shell.execute_reply.started": "2022-01-24T15:30:54.215548Z"
    },
    "papermill": {
     "duration": 13.619807,
     "end_time": "2022-01-24T15:41:26.510852",
     "exception": false,
     "start_time": "2022-01-24T15:41:12.891045",
     "status": "completed"
    },
    "tags": []
   },
   "outputs": [
    {
     "name": "stdout",
     "output_type": "stream",
     "text": [
      "Best parameters:  {'C': 1, 'kernel': 'rbf'}\n"
     ]
    }
   ],
   "source": [
    "# Hyperparameter tuning\n",
    "parameters = [{'kernel':['rbf'], 'C':[1, 10, 100, 1000]},\n",
    "              {'kernel':['linear'], 'C':[1, 10, 100, 1000]}]\n",
    "\n",
    "clf = GridSearchCV(estimator=svc, param_grid=parameters, cv=2, n_jobs=-1)\n",
    "clf.fit(X_train, y_train)\n",
    "print('Best parameters: ', clf.best_params_)"
   ]
  },
  {
   "cell_type": "code",
   "execution_count": 23,
   "id": "043b87f1",
   "metadata": {
    "execution": {
     "iopub.execute_input": "2022-01-24T15:41:26.593921Z",
     "iopub.status.busy": "2022-01-24T15:41:26.593220Z",
     "iopub.status.idle": "2022-01-24T15:41:26.614990Z",
     "shell.execute_reply": "2022-01-24T15:41:26.614444Z",
     "shell.execute_reply.started": "2022-01-24T15:31:47.175136Z"
    },
    "papermill": {
     "duration": 0.067608,
     "end_time": "2022-01-24T15:41:26.615149",
     "exception": false,
     "start_time": "2022-01-24T15:41:26.547541",
     "status": "completed"
    },
    "tags": []
   },
   "outputs": [
    {
     "name": "stdout",
     "output_type": "stream",
     "text": [
      "              precision    recall  f1-score   support\n",
      "\n",
      "           0       0.86      0.89      0.88       170\n",
      "           1       0.80      0.74      0.77        98\n",
      "\n",
      "    accuracy                           0.84       268\n",
      "   macro avg       0.83      0.82      0.82       268\n",
      "weighted avg       0.84      0.84      0.84       268\n",
      "\n"
     ]
    }
   ],
   "source": [
    "test = df_test.drop('PassengerId', axis=1)\n",
    "test_id = df_test['PassengerId']\n",
    "\n",
    "svc_final = SVC(kernel='rbf', C=1)\n",
    "svc_final.fit(X_train, y_train)\n",
    "y_test_pred = svc_final.predict(X_test)\n",
    "\n",
    "print(classification_report(y_test, y_test_pred))"
   ]
  },
  {
   "cell_type": "code",
   "execution_count": 24,
   "id": "1fa615dd",
   "metadata": {
    "execution": {
     "iopub.execute_input": "2022-01-24T15:41:26.693946Z",
     "iopub.status.busy": "2022-01-24T15:41:26.693277Z",
     "iopub.status.idle": "2022-01-24T15:41:26.707426Z",
     "shell.execute_reply": "2022-01-24T15:41:26.706905Z",
     "shell.execute_reply.started": "2022-01-24T15:31:53.518513Z"
    },
    "papermill": {
     "duration": 0.056769,
     "end_time": "2022-01-24T15:41:26.707563",
     "exception": false,
     "start_time": "2022-01-24T15:41:26.650794",
     "status": "completed"
    },
    "tags": []
   },
   "outputs": [
    {
     "data": {
      "text/html": [
       "<div>\n",
       "<style scoped>\n",
       "    .dataframe tbody tr th:only-of-type {\n",
       "        vertical-align: middle;\n",
       "    }\n",
       "\n",
       "    .dataframe tbody tr th {\n",
       "        vertical-align: top;\n",
       "    }\n",
       "\n",
       "    .dataframe thead th {\n",
       "        text-align: right;\n",
       "    }\n",
       "</style>\n",
       "<table border=\"1\" class=\"dataframe\">\n",
       "  <thead>\n",
       "    <tr style=\"text-align: right;\">\n",
       "      <th></th>\n",
       "      <th>PassengerId</th>\n",
       "      <th>Survived</th>\n",
       "    </tr>\n",
       "  </thead>\n",
       "  <tbody>\n",
       "    <tr>\n",
       "      <th>0</th>\n",
       "      <td>892</td>\n",
       "      <td>0</td>\n",
       "    </tr>\n",
       "    <tr>\n",
       "      <th>1</th>\n",
       "      <td>893</td>\n",
       "      <td>1</td>\n",
       "    </tr>\n",
       "    <tr>\n",
       "      <th>2</th>\n",
       "      <td>894</td>\n",
       "      <td>0</td>\n",
       "    </tr>\n",
       "    <tr>\n",
       "      <th>3</th>\n",
       "      <td>895</td>\n",
       "      <td>0</td>\n",
       "    </tr>\n",
       "    <tr>\n",
       "      <th>4</th>\n",
       "      <td>896</td>\n",
       "      <td>1</td>\n",
       "    </tr>\n",
       "    <tr>\n",
       "      <th>...</th>\n",
       "      <td>...</td>\n",
       "      <td>...</td>\n",
       "    </tr>\n",
       "    <tr>\n",
       "      <th>413</th>\n",
       "      <td>1305</td>\n",
       "      <td>0</td>\n",
       "    </tr>\n",
       "    <tr>\n",
       "      <th>414</th>\n",
       "      <td>1306</td>\n",
       "      <td>1</td>\n",
       "    </tr>\n",
       "    <tr>\n",
       "      <th>415</th>\n",
       "      <td>1307</td>\n",
       "      <td>0</td>\n",
       "    </tr>\n",
       "    <tr>\n",
       "      <th>416</th>\n",
       "      <td>1308</td>\n",
       "      <td>0</td>\n",
       "    </tr>\n",
       "    <tr>\n",
       "      <th>417</th>\n",
       "      <td>1309</td>\n",
       "      <td>0</td>\n",
       "    </tr>\n",
       "  </tbody>\n",
       "</table>\n",
       "<p>418 rows × 2 columns</p>\n",
       "</div>"
      ],
      "text/plain": [
       "     PassengerId  Survived\n",
       "0            892         0\n",
       "1            893         1\n",
       "2            894         0\n",
       "3            895         0\n",
       "4            896         1\n",
       "..           ...       ...\n",
       "413         1305         0\n",
       "414         1306         1\n",
       "415         1307         0\n",
       "416         1308         0\n",
       "417         1309         0\n",
       "\n",
       "[418 rows x 2 columns]"
      ]
     },
     "execution_count": 24,
     "metadata": {},
     "output_type": "execute_result"
    }
   ],
   "source": [
    "# Get the 'Id' column from the original test dataset\n",
    "# Combine 'Id' and the prediction into a new dataframe\n",
    "\n",
    "y_pred = svc_final.predict(test)\n",
    "y_pred = pd.DataFrame(y_pred, columns=['Survived'])\n",
    "result = pd.concat([test_id, y_pred], axis=1)\n",
    "result"
   ]
  },
  {
   "cell_type": "code",
   "execution_count": 25,
   "id": "851cd2d9",
   "metadata": {
    "execution": {
     "iopub.execute_input": "2022-01-24T15:41:26.783244Z",
     "iopub.status.busy": "2022-01-24T15:41:26.782538Z",
     "iopub.status.idle": "2022-01-24T15:41:26.791596Z",
     "shell.execute_reply": "2022-01-24T15:41:26.791013Z",
     "shell.execute_reply.started": "2022-01-24T15:32:03.789188Z"
    },
    "papermill": {
     "duration": 0.048036,
     "end_time": "2022-01-24T15:41:26.791770",
     "exception": false,
     "start_time": "2022-01-24T15:41:26.743734",
     "status": "completed"
    },
    "tags": []
   },
   "outputs": [],
   "source": [
    "result.to_csv('submission.csv', index=False)"
   ]
  }
 ],
 "metadata": {
  "kernelspec": {
   "display_name": "Python 3",
   "language": "python",
   "name": "python3"
  },
  "language_info": {
   "codemirror_mode": {
    "name": "ipython",
    "version": 3
   },
   "file_extension": ".py",
   "mimetype": "text/x-python",
   "name": "python",
   "nbconvert_exporter": "python",
   "pygments_lexer": "ipython3",
   "version": "3.7.12"
  },
  "papermill": {
   "default_parameters": {},
   "duration": 45.564235,
   "end_time": "2022-01-24T15:41:27.742373",
   "environment_variables": {},
   "exception": null,
   "input_path": "__notebook__.ipynb",
   "output_path": "__notebook__.ipynb",
   "parameters": {},
   "start_time": "2022-01-24T15:40:42.178138",
   "version": "2.3.3"
  }
 },
 "nbformat": 4,
 "nbformat_minor": 5
}
