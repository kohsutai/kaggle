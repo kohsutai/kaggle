{
 "cells": [
  {
   "cell_type": "code",
   "execution_count": 1,
   "id": "483c51ab",
   "metadata": {
    "_cell_guid": "b1076dfc-b9ad-4769-8c92-a6c4dae69d19",
    "_uuid": "8f2839f25d086af736a60e9eeb907d3b93b6e0e5",
    "execution": {
     "iopub.execute_input": "2022-01-12T15:58:40.867294Z",
     "iopub.status.busy": "2022-01-12T15:58:40.866169Z",
     "iopub.status.idle": "2022-01-12T15:58:40.886407Z",
     "shell.execute_reply": "2022-01-12T15:58:40.887083Z",
     "shell.execute_reply.started": "2022-01-12T15:56:32.354333Z"
    },
    "papermill": {
     "duration": 0.040409,
     "end_time": "2022-01-12T15:58:40.887462",
     "exception": false,
     "start_time": "2022-01-12T15:58:40.847053",
     "status": "completed"
    },
    "tags": []
   },
   "outputs": [
    {
     "name": "stdout",
     "output_type": "stream",
     "text": [
      "/kaggle/input/house-prices-advanced-regression-techniques/sample_submission.csv\n",
      "/kaggle/input/house-prices-advanced-regression-techniques/data_description.txt\n",
      "/kaggle/input/house-prices-advanced-regression-techniques/train.csv\n",
      "/kaggle/input/house-prices-advanced-regression-techniques/test.csv\n"
     ]
    }
   ],
   "source": [
    "# This Python 3 environment comes with many helpful analytics libraries installed\n",
    "# It is defined by the kaggle/python Docker image: https://github.com/kaggle/docker-python\n",
    "# For example, here's several helpful packages to load\n",
    "\n",
    "import numpy as np # linear algebra\n",
    "import pandas as pd # data processing, CSV file I/O (e.g. pd.read_csv)\n",
    "\n",
    "# Input data files are available in the read-only \"../input/\" directory\n",
    "# For example, running this (by clicking run or pressing Shift+Enter) will list all files under the input directory\n",
    "\n",
    "import os\n",
    "for dirname, _, filenames in os.walk('/kaggle/input'):\n",
    "    for filename in filenames:\n",
    "        print(os.path.join(dirname, filename))\n",
    "\n",
    "# You can write up to 20GB to the current directory (/kaggle/working/) that gets preserved as output when you create a version using \"Save & Run All\" \n",
    "# You can also write temporary files to /kaggle/temp/, but they won't be saved outside of the current session"
   ]
  },
  {
   "cell_type": "code",
   "execution_count": 2,
   "id": "9f87b8b2",
   "metadata": {
    "execution": {
     "iopub.execute_input": "2022-01-12T15:58:40.919856Z",
     "iopub.status.busy": "2022-01-12T15:58:40.919224Z",
     "iopub.status.idle": "2022-01-12T15:58:41.790825Z",
     "shell.execute_reply": "2022-01-12T15:58:41.790265Z",
     "shell.execute_reply.started": "2022-01-12T15:56:32.368333Z"
    },
    "papermill": {
     "duration": 0.888176,
     "end_time": "2022-01-12T15:58:41.790979",
     "exception": false,
     "start_time": "2022-01-12T15:58:40.902803",
     "status": "completed"
    },
    "tags": []
   },
   "outputs": [
    {
     "name": "stdout",
     "output_type": "stream",
     "text": [
      "(1460, 81)\n",
      "(1459, 80)\n"
     ]
    }
   ],
   "source": [
    "import matplotlib.pyplot as plt\n",
    "import seaborn as sns\n",
    "\n",
    "sns.set()\n",
    "df_train = pd.read_csv('../input/house-prices-advanced-regression-techniques/train.csv')\n",
    "df_test = pd.read_csv('../input/house-prices-advanced-regression-techniques/test.csv')\n",
    "\n",
    "print(df_train.shape)\n",
    "print(df_test.shape)"
   ]
  },
  {
   "cell_type": "code",
   "execution_count": 3,
   "id": "53a64c68",
   "metadata": {
    "execution": {
     "iopub.execute_input": "2022-01-12T15:58:41.832826Z",
     "iopub.status.busy": "2022-01-12T15:58:41.832002Z",
     "iopub.status.idle": "2022-01-12T15:58:41.854589Z",
     "shell.execute_reply": "2022-01-12T15:58:41.855018Z",
     "shell.execute_reply.started": "2022-01-12T15:56:32.424142Z"
    },
    "papermill": {
     "duration": 0.048715,
     "end_time": "2022-01-12T15:58:41.855171",
     "exception": false,
     "start_time": "2022-01-12T15:58:41.806456",
     "status": "completed"
    },
    "tags": []
   },
   "outputs": [
    {
     "data": {
      "text/html": [
       "<div>\n",
       "<style scoped>\n",
       "    .dataframe tbody tr th:only-of-type {\n",
       "        vertical-align: middle;\n",
       "    }\n",
       "\n",
       "    .dataframe tbody tr th {\n",
       "        vertical-align: top;\n",
       "    }\n",
       "\n",
       "    .dataframe thead th {\n",
       "        text-align: right;\n",
       "    }\n",
       "</style>\n",
       "<table border=\"1\" class=\"dataframe\">\n",
       "  <thead>\n",
       "    <tr style=\"text-align: right;\">\n",
       "      <th></th>\n",
       "      <th>Id</th>\n",
       "      <th>MSSubClass</th>\n",
       "      <th>MSZoning</th>\n",
       "      <th>LotFrontage</th>\n",
       "      <th>LotArea</th>\n",
       "      <th>Street</th>\n",
       "      <th>Alley</th>\n",
       "      <th>LotShape</th>\n",
       "      <th>LandContour</th>\n",
       "      <th>Utilities</th>\n",
       "      <th>...</th>\n",
       "      <th>PoolArea</th>\n",
       "      <th>PoolQC</th>\n",
       "      <th>Fence</th>\n",
       "      <th>MiscFeature</th>\n",
       "      <th>MiscVal</th>\n",
       "      <th>MoSold</th>\n",
       "      <th>YrSold</th>\n",
       "      <th>SaleType</th>\n",
       "      <th>SaleCondition</th>\n",
       "      <th>SalePrice</th>\n",
       "    </tr>\n",
       "  </thead>\n",
       "  <tbody>\n",
       "    <tr>\n",
       "      <th>0</th>\n",
       "      <td>1</td>\n",
       "      <td>60</td>\n",
       "      <td>RL</td>\n",
       "      <td>65.0</td>\n",
       "      <td>8450</td>\n",
       "      <td>Pave</td>\n",
       "      <td>NaN</td>\n",
       "      <td>Reg</td>\n",
       "      <td>Lvl</td>\n",
       "      <td>AllPub</td>\n",
       "      <td>...</td>\n",
       "      <td>0</td>\n",
       "      <td>NaN</td>\n",
       "      <td>NaN</td>\n",
       "      <td>NaN</td>\n",
       "      <td>0</td>\n",
       "      <td>2</td>\n",
       "      <td>2008</td>\n",
       "      <td>WD</td>\n",
       "      <td>Normal</td>\n",
       "      <td>208500</td>\n",
       "    </tr>\n",
       "    <tr>\n",
       "      <th>1</th>\n",
       "      <td>2</td>\n",
       "      <td>20</td>\n",
       "      <td>RL</td>\n",
       "      <td>80.0</td>\n",
       "      <td>9600</td>\n",
       "      <td>Pave</td>\n",
       "      <td>NaN</td>\n",
       "      <td>Reg</td>\n",
       "      <td>Lvl</td>\n",
       "      <td>AllPub</td>\n",
       "      <td>...</td>\n",
       "      <td>0</td>\n",
       "      <td>NaN</td>\n",
       "      <td>NaN</td>\n",
       "      <td>NaN</td>\n",
       "      <td>0</td>\n",
       "      <td>5</td>\n",
       "      <td>2007</td>\n",
       "      <td>WD</td>\n",
       "      <td>Normal</td>\n",
       "      <td>181500</td>\n",
       "    </tr>\n",
       "    <tr>\n",
       "      <th>2</th>\n",
       "      <td>3</td>\n",
       "      <td>60</td>\n",
       "      <td>RL</td>\n",
       "      <td>68.0</td>\n",
       "      <td>11250</td>\n",
       "      <td>Pave</td>\n",
       "      <td>NaN</td>\n",
       "      <td>IR1</td>\n",
       "      <td>Lvl</td>\n",
       "      <td>AllPub</td>\n",
       "      <td>...</td>\n",
       "      <td>0</td>\n",
       "      <td>NaN</td>\n",
       "      <td>NaN</td>\n",
       "      <td>NaN</td>\n",
       "      <td>0</td>\n",
       "      <td>9</td>\n",
       "      <td>2008</td>\n",
       "      <td>WD</td>\n",
       "      <td>Normal</td>\n",
       "      <td>223500</td>\n",
       "    </tr>\n",
       "    <tr>\n",
       "      <th>3</th>\n",
       "      <td>4</td>\n",
       "      <td>70</td>\n",
       "      <td>RL</td>\n",
       "      <td>60.0</td>\n",
       "      <td>9550</td>\n",
       "      <td>Pave</td>\n",
       "      <td>NaN</td>\n",
       "      <td>IR1</td>\n",
       "      <td>Lvl</td>\n",
       "      <td>AllPub</td>\n",
       "      <td>...</td>\n",
       "      <td>0</td>\n",
       "      <td>NaN</td>\n",
       "      <td>NaN</td>\n",
       "      <td>NaN</td>\n",
       "      <td>0</td>\n",
       "      <td>2</td>\n",
       "      <td>2006</td>\n",
       "      <td>WD</td>\n",
       "      <td>Abnorml</td>\n",
       "      <td>140000</td>\n",
       "    </tr>\n",
       "    <tr>\n",
       "      <th>4</th>\n",
       "      <td>5</td>\n",
       "      <td>60</td>\n",
       "      <td>RL</td>\n",
       "      <td>84.0</td>\n",
       "      <td>14260</td>\n",
       "      <td>Pave</td>\n",
       "      <td>NaN</td>\n",
       "      <td>IR1</td>\n",
       "      <td>Lvl</td>\n",
       "      <td>AllPub</td>\n",
       "      <td>...</td>\n",
       "      <td>0</td>\n",
       "      <td>NaN</td>\n",
       "      <td>NaN</td>\n",
       "      <td>NaN</td>\n",
       "      <td>0</td>\n",
       "      <td>12</td>\n",
       "      <td>2008</td>\n",
       "      <td>WD</td>\n",
       "      <td>Normal</td>\n",
       "      <td>250000</td>\n",
       "    </tr>\n",
       "  </tbody>\n",
       "</table>\n",
       "<p>5 rows × 81 columns</p>\n",
       "</div>"
      ],
      "text/plain": [
       "   Id  MSSubClass MSZoning  LotFrontage  LotArea Street Alley LotShape  \\\n",
       "0   1          60       RL         65.0     8450   Pave   NaN      Reg   \n",
       "1   2          20       RL         80.0     9600   Pave   NaN      Reg   \n",
       "2   3          60       RL         68.0    11250   Pave   NaN      IR1   \n",
       "3   4          70       RL         60.0     9550   Pave   NaN      IR1   \n",
       "4   5          60       RL         84.0    14260   Pave   NaN      IR1   \n",
       "\n",
       "  LandContour Utilities  ... PoolArea PoolQC Fence MiscFeature MiscVal MoSold  \\\n",
       "0         Lvl    AllPub  ...        0    NaN   NaN         NaN       0      2   \n",
       "1         Lvl    AllPub  ...        0    NaN   NaN         NaN       0      5   \n",
       "2         Lvl    AllPub  ...        0    NaN   NaN         NaN       0      9   \n",
       "3         Lvl    AllPub  ...        0    NaN   NaN         NaN       0      2   \n",
       "4         Lvl    AllPub  ...        0    NaN   NaN         NaN       0     12   \n",
       "\n",
       "  YrSold  SaleType  SaleCondition  SalePrice  \n",
       "0   2008        WD         Normal     208500  \n",
       "1   2007        WD         Normal     181500  \n",
       "2   2008        WD         Normal     223500  \n",
       "3   2006        WD        Abnorml     140000  \n",
       "4   2008        WD         Normal     250000  \n",
       "\n",
       "[5 rows x 81 columns]"
      ]
     },
     "execution_count": 3,
     "metadata": {},
     "output_type": "execute_result"
    }
   ],
   "source": [
    "df_train.head()"
   ]
  },
  {
   "cell_type": "code",
   "execution_count": 4,
   "id": "cc60de14",
   "metadata": {
    "execution": {
     "iopub.execute_input": "2022-01-12T15:58:41.886575Z",
     "iopub.status.busy": "2022-01-12T15:58:41.886061Z",
     "iopub.status.idle": "2022-01-12T15:58:41.916822Z",
     "shell.execute_reply": "2022-01-12T15:58:41.917300Z",
     "shell.execute_reply.started": "2022-01-12T15:56:32.458531Z"
    },
    "papermill": {
     "duration": 0.047473,
     "end_time": "2022-01-12T15:58:41.917466",
     "exception": false,
     "start_time": "2022-01-12T15:58:41.869993",
     "status": "completed"
    },
    "tags": []
   },
   "outputs": [
    {
     "name": "stdout",
     "output_type": "stream",
     "text": [
      "<class 'pandas.core.frame.DataFrame'>\n",
      "RangeIndex: 1460 entries, 0 to 1459\n",
      "Data columns (total 81 columns):\n",
      " #   Column         Non-Null Count  Dtype  \n",
      "---  ------         --------------  -----  \n",
      " 0   Id             1460 non-null   int64  \n",
      " 1   MSSubClass     1460 non-null   int64  \n",
      " 2   MSZoning       1460 non-null   object \n",
      " 3   LotFrontage    1201 non-null   float64\n",
      " 4   LotArea        1460 non-null   int64  \n",
      " 5   Street         1460 non-null   object \n",
      " 6   Alley          91 non-null     object \n",
      " 7   LotShape       1460 non-null   object \n",
      " 8   LandContour    1460 non-null   object \n",
      " 9   Utilities      1460 non-null   object \n",
      " 10  LotConfig      1460 non-null   object \n",
      " 11  LandSlope      1460 non-null   object \n",
      " 12  Neighborhood   1460 non-null   object \n",
      " 13  Condition1     1460 non-null   object \n",
      " 14  Condition2     1460 non-null   object \n",
      " 15  BldgType       1460 non-null   object \n",
      " 16  HouseStyle     1460 non-null   object \n",
      " 17  OverallQual    1460 non-null   int64  \n",
      " 18  OverallCond    1460 non-null   int64  \n",
      " 19  YearBuilt      1460 non-null   int64  \n",
      " 20  YearRemodAdd   1460 non-null   int64  \n",
      " 21  RoofStyle      1460 non-null   object \n",
      " 22  RoofMatl       1460 non-null   object \n",
      " 23  Exterior1st    1460 non-null   object \n",
      " 24  Exterior2nd    1460 non-null   object \n",
      " 25  MasVnrType     1452 non-null   object \n",
      " 26  MasVnrArea     1452 non-null   float64\n",
      " 27  ExterQual      1460 non-null   object \n",
      " 28  ExterCond      1460 non-null   object \n",
      " 29  Foundation     1460 non-null   object \n",
      " 30  BsmtQual       1423 non-null   object \n",
      " 31  BsmtCond       1423 non-null   object \n",
      " 32  BsmtExposure   1422 non-null   object \n",
      " 33  BsmtFinType1   1423 non-null   object \n",
      " 34  BsmtFinSF1     1460 non-null   int64  \n",
      " 35  BsmtFinType2   1422 non-null   object \n",
      " 36  BsmtFinSF2     1460 non-null   int64  \n",
      " 37  BsmtUnfSF      1460 non-null   int64  \n",
      " 38  TotalBsmtSF    1460 non-null   int64  \n",
      " 39  Heating        1460 non-null   object \n",
      " 40  HeatingQC      1460 non-null   object \n",
      " 41  CentralAir     1460 non-null   object \n",
      " 42  Electrical     1459 non-null   object \n",
      " 43  1stFlrSF       1460 non-null   int64  \n",
      " 44  2ndFlrSF       1460 non-null   int64  \n",
      " 45  LowQualFinSF   1460 non-null   int64  \n",
      " 46  GrLivArea      1460 non-null   int64  \n",
      " 47  BsmtFullBath   1460 non-null   int64  \n",
      " 48  BsmtHalfBath   1460 non-null   int64  \n",
      " 49  FullBath       1460 non-null   int64  \n",
      " 50  HalfBath       1460 non-null   int64  \n",
      " 51  BedroomAbvGr   1460 non-null   int64  \n",
      " 52  KitchenAbvGr   1460 non-null   int64  \n",
      " 53  KitchenQual    1460 non-null   object \n",
      " 54  TotRmsAbvGrd   1460 non-null   int64  \n",
      " 55  Functional     1460 non-null   object \n",
      " 56  Fireplaces     1460 non-null   int64  \n",
      " 57  FireplaceQu    770 non-null    object \n",
      " 58  GarageType     1379 non-null   object \n",
      " 59  GarageYrBlt    1379 non-null   float64\n",
      " 60  GarageFinish   1379 non-null   object \n",
      " 61  GarageCars     1460 non-null   int64  \n",
      " 62  GarageArea     1460 non-null   int64  \n",
      " 63  GarageQual     1379 non-null   object \n",
      " 64  GarageCond     1379 non-null   object \n",
      " 65  PavedDrive     1460 non-null   object \n",
      " 66  WoodDeckSF     1460 non-null   int64  \n",
      " 67  OpenPorchSF    1460 non-null   int64  \n",
      " 68  EnclosedPorch  1460 non-null   int64  \n",
      " 69  3SsnPorch      1460 non-null   int64  \n",
      " 70  ScreenPorch    1460 non-null   int64  \n",
      " 71  PoolArea       1460 non-null   int64  \n",
      " 72  PoolQC         7 non-null      object \n",
      " 73  Fence          281 non-null    object \n",
      " 74  MiscFeature    54 non-null     object \n",
      " 75  MiscVal        1460 non-null   int64  \n",
      " 76  MoSold         1460 non-null   int64  \n",
      " 77  YrSold         1460 non-null   int64  \n",
      " 78  SaleType       1460 non-null   object \n",
      " 79  SaleCondition  1460 non-null   object \n",
      " 80  SalePrice      1460 non-null   int64  \n",
      "dtypes: float64(3), int64(35), object(43)\n",
      "memory usage: 924.0+ KB\n"
     ]
    }
   ],
   "source": [
    "df_train.info()"
   ]
  },
  {
   "cell_type": "code",
   "execution_count": 5,
   "id": "6f277e8c",
   "metadata": {
    "execution": {
     "iopub.execute_input": "2022-01-12T15:58:41.971653Z",
     "iopub.status.busy": "2022-01-12T15:58:41.954527Z",
     "iopub.status.idle": "2022-01-12T15:58:42.616463Z",
     "shell.execute_reply": "2022-01-12T15:58:42.615933Z",
     "shell.execute_reply.started": "2022-01-12T15:56:32.490105Z"
    },
    "papermill": {
     "duration": 0.684389,
     "end_time": "2022-01-12T15:58:42.616600",
     "exception": false,
     "start_time": "2022-01-12T15:58:41.932211",
     "status": "completed"
    },
    "tags": []
   },
   "outputs": [
    {
     "name": "stdout",
     "output_type": "stream",
     "text": [
      "Skewness: 1.8828757597682129\n",
      "Kurtosis: 6.536281860064529\n"
     ]
    },
    {
     "data": {
      "image/png": "[encoded data removed]",
      "text/plain": [
       "<Figure size 360x360 with 1 Axes>"
      ]
     },
     "metadata": {},
     "output_type": "display_data"
    }
   ],
   "source": [
    "# Analyize target variable 'SalePrice'\n",
    "sns.displot(df_train['SalePrice'], kde=True)\n",
    "print('Skewness: {}'.format(df_train['SalePrice'].skew()))\n",
    "print('Kurtosis: {}'.format(df_train['SalePrice'].kurt()))"
   ]
  },
  {
   "cell_type": "code",
   "execution_count": 6,
   "id": "00e60078",
   "metadata": {
    "execution": {
     "iopub.execute_input": "2022-01-12T15:58:42.652613Z",
     "iopub.status.busy": "2022-01-12T15:58:42.652037Z",
     "iopub.status.idle": "2022-01-12T15:58:42.665826Z",
     "shell.execute_reply": "2022-01-12T15:58:42.666406Z",
     "shell.execute_reply.started": "2022-01-12T15:56:33.159264Z"
    },
    "papermill": {
     "duration": 0.033551,
     "end_time": "2022-01-12T15:58:42.666577",
     "exception": false,
     "start_time": "2022-01-12T15:58:42.633026",
     "status": "completed"
    },
    "tags": []
   },
   "outputs": [
    {
     "name": "stdout",
     "output_type": "stream",
     "text": [
      "['OverallQual', 'YearBuilt', 'YearRemodAdd', 'TotalBsmtSF', '1stFlrSF', 'GrLivArea', 'FullBath', 'TotRmsAbvGrd', 'GarageCars', 'GarageArea', 'SalePrice']\n",
      "11\n"
     ]
    }
   ],
   "source": [
    "# Find out the features which correlated parameter is greater than 0.3\n",
    "corr = df_train.corr()\n",
    "correlated_features = list(corr[corr['SalePrice']>0.5].index)\n",
    "print(correlated_features)\n",
    "print(len(correlated_features))"
   ]
  },
  {
   "cell_type": "code",
   "execution_count": 7,
   "id": "05036952",
   "metadata": {
    "execution": {
     "iopub.execute_input": "2022-01-12T15:58:42.709755Z",
     "iopub.status.busy": "2022-01-12T15:58:42.709155Z",
     "iopub.status.idle": "2022-01-12T15:58:42.711862Z",
     "shell.execute_reply": "2022-01-12T15:58:42.712352Z",
     "shell.execute_reply.started": "2022-01-12T15:56:33.181501Z"
    },
    "papermill": {
     "duration": 0.028875,
     "end_time": "2022-01-12T15:58:42.712497",
     "exception": false,
     "start_time": "2022-01-12T15:58:42.683622",
     "status": "completed"
    },
    "tags": []
   },
   "outputs": [
    {
     "name": "stdout",
     "output_type": "stream",
     "text": [
      "(1460, 19)\n",
      "(1459, 18)\n"
     ]
    }
   ],
   "source": [
    "# Focus on the correlated features\n",
    "train_correlated_features = ['LotFrontage', 'OverallQual', 'YearBuilt', 'YearRemodAdd', 'MasVnrArea',\n",
    "       'BsmtFinSF1', 'TotalBsmtSF', '1stFlrSF', '2ndFlrSF', 'GrLivArea',\n",
    "       'FullBath', 'TotRmsAbvGrd', 'Fireplaces', 'GarageYrBlt', 'GarageCars',\n",
    "       'GarageArea', 'WoodDeckSF', 'OpenPorchSF', 'SalePrice']\n",
    "test_correlated_features = ['LotFrontage', 'OverallQual', 'YearBuilt', 'YearRemodAdd', 'MasVnrArea',\n",
    "       'BsmtFinSF1', 'TotalBsmtSF', '1stFlrSF', '2ndFlrSF', 'GrLivArea',\n",
    "       'FullBath', 'TotRmsAbvGrd', 'Fireplaces', 'GarageYrBlt', 'GarageCars',\n",
    "       'GarageArea', 'WoodDeckSF', 'OpenPorchSF']\n",
    "\n",
    "df_train = df_train[train_correlated_features]\n",
    "df_test = df_test[test_correlated_features]\n",
    "print(df_train.shape)\n",
    "print(df_test.shape)"
   ]
  },
  {
   "cell_type": "code",
   "execution_count": 8,
   "id": "a1d798e7",
   "metadata": {
    "execution": {
     "iopub.execute_input": "2022-01-12T15:58:42.752141Z",
     "iopub.status.busy": "2022-01-12T15:58:42.749470Z",
     "iopub.status.idle": "2022-01-12T15:58:42.754428Z",
     "shell.execute_reply": "2022-01-12T15:58:42.755053Z",
     "shell.execute_reply.started": "2022-01-12T15:56:33.196614Z"
    },
    "papermill": {
     "duration": 0.026294,
     "end_time": "2022-01-12T15:58:42.755206",
     "exception": false,
     "start_time": "2022-01-12T15:58:42.728912",
     "status": "completed"
    },
    "tags": []
   },
   "outputs": [
    {
     "data": {
      "text/plain": [
       "LotFrontage     259\n",
       "GarageYrBlt      81\n",
       "MasVnrArea        8\n",
       "FullBath          0\n",
       "OpenPorchSF       0\n",
       "WoodDeckSF        0\n",
       "GarageArea        0\n",
       "GarageCars        0\n",
       "Fireplaces        0\n",
       "TotRmsAbvGrd      0\n",
       "GrLivArea         0\n",
       "OverallQual       0\n",
       "2ndFlrSF          0\n",
       "1stFlrSF          0\n",
       "TotalBsmtSF       0\n",
       "BsmtFinSF1        0\n",
       "YearRemodAdd      0\n",
       "YearBuilt         0\n",
       "SalePrice         0\n",
       "dtype: int64"
      ]
     },
     "execution_count": 8,
     "metadata": {},
     "output_type": "execute_result"
    }
   ],
   "source": [
    "# Check null values in train dataset\n",
    "df_train.isna().sum().sort_values(ascending=False)"
   ]
  },
  {
   "cell_type": "code",
   "execution_count": 9,
   "id": "ada0b0d1",
   "metadata": {
    "execution": {
     "iopub.execute_input": "2022-01-12T15:58:42.791468Z",
     "iopub.status.busy": "2022-01-12T15:58:42.790854Z",
     "iopub.status.idle": "2022-01-12T15:58:43.069370Z",
     "shell.execute_reply": "2022-01-12T15:58:43.069850Z",
     "shell.execute_reply.started": "2022-01-12T15:56:33.229175Z"
    },
    "papermill": {
     "duration": 0.297766,
     "end_time": "2022-01-12T15:58:43.070007",
     "exception": false,
     "start_time": "2022-01-12T15:58:42.772241",
     "status": "completed"
    },
    "tags": []
   },
   "outputs": [
    {
     "data": {
      "text/plain": [
       "LotFrontage     0\n",
       "FullBath        0\n",
       "OpenPorchSF     0\n",
       "WoodDeckSF      0\n",
       "GarageArea      0\n",
       "GarageCars      0\n",
       "GarageYrBlt     0\n",
       "Fireplaces      0\n",
       "TotRmsAbvGrd    0\n",
       "GrLivArea       0\n",
       "OverallQual     0\n",
       "2ndFlrSF        0\n",
       "1stFlrSF        0\n",
       "TotalBsmtSF     0\n",
       "BsmtFinSF1      0\n",
       "MasVnrArea      0\n",
       "YearRemodAdd    0\n",
       "YearBuilt       0\n",
       "SalePrice       0\n",
       "dtype: int64"
      ]
     },
     "execution_count": 9,
     "metadata": {},
     "output_type": "execute_result"
    }
   ],
   "source": [
    "# Since all features are numerical, fill the null values with mean value\n",
    "from sklearn.impute import SimpleImputer\n",
    "\n",
    "imputer = SimpleImputer(missing_values=np.nan, strategy='mean')\n",
    "df_train = pd.DataFrame(imputer.fit_transform(df_train), columns=train_correlated_features)\n",
    "df_train.isna().sum().sort_values(ascending=False)"
   ]
  },
  {
   "cell_type": "code",
   "execution_count": 10,
   "id": "bb4538a4",
   "metadata": {
    "execution": {
     "iopub.execute_input": "2022-01-12T15:58:43.113749Z",
     "iopub.status.busy": "2022-01-12T15:58:43.113103Z",
     "iopub.status.idle": "2022-01-12T15:58:43.116581Z",
     "shell.execute_reply": "2022-01-12T15:58:43.116009Z",
     "shell.execute_reply.started": "2022-01-12T15:56:33.251141Z"
    },
    "papermill": {
     "duration": 0.028928,
     "end_time": "2022-01-12T15:58:43.116740",
     "exception": false,
     "start_time": "2022-01-12T15:58:43.087812",
     "status": "completed"
    },
    "tags": []
   },
   "outputs": [
    {
     "data": {
      "text/plain": [
       "LotFrontage     227\n",
       "GarageYrBlt      78\n",
       "MasVnrArea       15\n",
       "GarageArea        1\n",
       "BsmtFinSF1        1\n",
       "TotalBsmtSF       1\n",
       "GarageCars        1\n",
       "TotRmsAbvGrd      0\n",
       "WoodDeckSF        0\n",
       "Fireplaces        0\n",
       "GrLivArea         0\n",
       "FullBath          0\n",
       "OverallQual       0\n",
       "2ndFlrSF          0\n",
       "1stFlrSF          0\n",
       "YearRemodAdd      0\n",
       "YearBuilt         0\n",
       "OpenPorchSF       0\n",
       "dtype: int64"
      ]
     },
     "execution_count": 10,
     "metadata": {},
     "output_type": "execute_result"
    }
   ],
   "source": [
    "# Check null values in test dataset\n",
    "df_test.isnull().sum().sort_values(ascending=False)"
   ]
  },
  {
   "cell_type": "code",
   "execution_count": 11,
   "id": "a9698eed",
   "metadata": {
    "execution": {
     "iopub.execute_input": "2022-01-12T15:58:43.155494Z",
     "iopub.status.busy": "2022-01-12T15:58:43.154940Z",
     "iopub.status.idle": "2022-01-12T15:58:43.166638Z",
     "shell.execute_reply": "2022-01-12T15:58:43.167082Z",
     "shell.execute_reply.started": "2022-01-12T15:56:33.264487Z"
    },
    "papermill": {
     "duration": 0.031395,
     "end_time": "2022-01-12T15:58:43.167222",
     "exception": false,
     "start_time": "2022-01-12T15:58:43.135827",
     "status": "completed"
    },
    "tags": []
   },
   "outputs": [
    {
     "data": {
      "text/plain": [
       "LotFrontage     0\n",
       "OverallQual     0\n",
       "WoodDeckSF      0\n",
       "GarageArea      0\n",
       "GarageCars      0\n",
       "GarageYrBlt     0\n",
       "Fireplaces      0\n",
       "TotRmsAbvGrd    0\n",
       "FullBath        0\n",
       "GrLivArea       0\n",
       "2ndFlrSF        0\n",
       "1stFlrSF        0\n",
       "TotalBsmtSF     0\n",
       "BsmtFinSF1      0\n",
       "MasVnrArea      0\n",
       "YearRemodAdd    0\n",
       "YearBuilt       0\n",
       "OpenPorchSF     0\n",
       "dtype: int64"
      ]
     },
     "execution_count": 11,
     "metadata": {},
     "output_type": "execute_result"
    }
   ],
   "source": [
    "# Since all features in training dataset is numerical, fill the missing data with mean value\n",
    "df_test = pd.DataFrame(imputer.fit_transform(df_test), columns=df_test.columns)\n",
    "df_test.isna().sum().sort_values(ascending=False)"
   ]
  },
  {
   "cell_type": "code",
   "execution_count": 12,
   "id": "208f4e8d",
   "metadata": {
    "execution": {
     "iopub.execute_input": "2022-01-12T15:58:43.212564Z",
     "iopub.status.busy": "2022-01-12T15:58:43.211981Z",
     "iopub.status.idle": "2022-01-12T15:58:43.218417Z",
     "shell.execute_reply": "2022-01-12T15:58:43.217901Z",
     "shell.execute_reply.started": "2022-01-12T15:56:33.285678Z"
    },
    "papermill": {
     "duration": 0.033268,
     "end_time": "2022-01-12T15:58:43.218552",
     "exception": false,
     "start_time": "2022-01-12T15:58:43.185284",
     "status": "completed"
    },
    "tags": []
   },
   "outputs": [
    {
     "data": {
      "text/plain": [
       "((1022, 18), (438, 18), (1022,), (438,))"
      ]
     },
     "execution_count": 12,
     "metadata": {},
     "output_type": "execute_result"
    }
   ],
   "source": [
    "# Split the train dataset into train and test samples\n",
    "from sklearn.model_selection import train_test_split\n",
    "from sklearn.linear_model import LinearRegression\n",
    "from sklearn.metrics import mean_squared_error, make_scorer\n",
    "\n",
    "\n",
    "X = df_train.drop('SalePrice', axis=1)\n",
    "y = df_train['SalePrice']\n",
    "\n",
    "X_train, X_test, y_train, y_test = train_test_split(X, y, test_size=0.3, random_state=123)\n",
    "X_train.shape, X_test.shape, y_train.shape, y_test.shape"
   ]
  },
  {
   "cell_type": "code",
   "execution_count": 13,
   "id": "fca5e470",
   "metadata": {
    "execution": {
     "iopub.execute_input": "2022-01-12T15:58:43.272032Z",
     "iopub.status.busy": "2022-01-12T15:58:43.264227Z",
     "iopub.status.idle": "2022-01-12T15:59:15.520780Z",
     "shell.execute_reply": "2022-01-12T15:59:15.521281Z",
     "shell.execute_reply.started": "2022-01-12T15:56:33.302597Z"
    },
    "papermill": {
     "duration": 32.284108,
     "end_time": "2022-01-12T15:59:15.521439",
     "exception": false,
     "start_time": "2022-01-12T15:58:43.237331",
     "status": "completed"
    },
    "tags": []
   },
   "outputs": [
    {
     "data": {
      "text/html": [
       "<div>\n",
       "<style scoped>\n",
       "    .dataframe tbody tr th:only-of-type {\n",
       "        vertical-align: middle;\n",
       "    }\n",
       "\n",
       "    .dataframe tbody tr th {\n",
       "        vertical-align: top;\n",
       "    }\n",
       "\n",
       "    .dataframe thead th {\n",
       "        text-align: right;\n",
       "    }\n",
       "</style>\n",
       "<table border=\"1\" class=\"dataframe\">\n",
       "  <thead>\n",
       "    <tr style=\"text-align: right;\">\n",
       "      <th></th>\n",
       "      <th>RMSE</th>\n",
       "      <th>R2 score</th>\n",
       "    </tr>\n",
       "  </thead>\n",
       "  <tbody>\n",
       "    <tr>\n",
       "      <th>Linear regression</th>\n",
       "      <td>39936.92</td>\n",
       "      <td>0.72</td>\n",
       "    </tr>\n",
       "    <tr>\n",
       "      <th>Decision Tree</th>\n",
       "      <td>46484.62</td>\n",
       "      <td>0.69</td>\n",
       "    </tr>\n",
       "    <tr>\n",
       "      <th>Random forest</th>\n",
       "      <td>32097.15</td>\n",
       "      <td>0.83</td>\n",
       "    </tr>\n",
       "    <tr>\n",
       "      <th>Gradient boosting</th>\n",
       "      <td>28366.78</td>\n",
       "      <td>0.87</td>\n",
       "    </tr>\n",
       "    <tr>\n",
       "      <th>XGBRegressor</th>\n",
       "      <td>34492.73</td>\n",
       "      <td>0.80</td>\n",
       "    </tr>\n",
       "  </tbody>\n",
       "</table>\n",
       "</div>"
      ],
      "text/plain": [
       "                       RMSE  R2 score\n",
       "Linear regression  39936.92      0.72\n",
       "Decision Tree      46484.62      0.69\n",
       "Random forest      32097.15      0.83\n",
       "Gradient boosting  28366.78      0.87\n",
       "XGBRegressor       34492.73      0.80"
      ]
     },
     "execution_count": 13,
     "metadata": {},
     "output_type": "execute_result"
    }
   ],
   "source": [
    "# Modeling\n",
    "from sklearn.preprocessing import StandardScaler\n",
    "from sklearn.pipeline import Pipeline\n",
    "from sklearn.linear_model import LinearRegression\n",
    "from sklearn.tree import DecisionTreeRegressor\n",
    "from sklearn.ensemble import RandomForestRegressor, GradientBoostingRegressor\n",
    "from xgboost import XGBRegressor\n",
    "from sklearn.model_selection import cross_val_score, KFold, GridSearchCV\n",
    "\n",
    "lr_pipe = Pipeline([('scaler', StandardScaler()), ('lr', LinearRegression())])\n",
    "dt_pipe = Pipeline([('scaler', StandardScaler()), ('dt', DecisionTreeRegressor())])\n",
    "rf_pipe = Pipeline([('scaler', StandardScaler()), ('rf', RandomForestRegressor())])\n",
    "gb_pipe = Pipeline([('scaler', StandardScaler()), ('rf', GradientBoostingRegressor())])\n",
    "xgb_pipe = Pipeline([('scaler', StandardScaler()), ('xgb', XGBRegressor())])\n",
    "\n",
    "cv = KFold(n_splits=10, shuffle=True, random_state=123)\n",
    "\n",
    "lr_rmse = round(-cross_val_score(lr_pipe, X_train, y_train, cv=cv, scoring='neg_root_mean_squared_error').mean(), 2)\n",
    "lr_r2 = round(cross_val_score(lr_pipe, X_train, y_train, cv=cv, scoring='r2').mean(), 2)\n",
    "\n",
    "dt_rmse = round(-cross_val_score(dt_pipe, X_train, y_train, cv=cv, scoring='neg_root_mean_squared_error').mean(), 2)\n",
    "dt_r2 = round(cross_val_score(dt_pipe, X_train, y_train, cv=cv, scoring='r2').mean(), 2)\n",
    "\n",
    "rf_rmse = round(-cross_val_score(rf_pipe, X_train, y_train, cv=cv, scoring='neg_root_mean_squared_error').mean(), 2)\n",
    "rf_r2 = round(cross_val_score(rf_pipe, X_train, y_train, cv=cv, scoring='r2').mean(), 2)\n",
    "\n",
    "gb_rmse = round(-cross_val_score(gb_pipe, X_train, y_train, cv=cv, scoring='neg_root_mean_squared_error').mean(), 2)\n",
    "gb_r2 = round(cross_val_score(gb_pipe, X_train, y_train, cv=cv, scoring='r2').mean(), 2)\n",
    "\n",
    "xgb_rmse = round(-cross_val_score(xgb_pipe, X_train, y_train, cv=cv, scoring='neg_root_mean_squared_error').mean(), 2)\n",
    "xgb_r2 = round(cross_val_score(xgb_pipe, X_train, y_train, cv=cv, scoring='r2').mean(), 2)\n",
    "\n",
    "summary_dict = {'RMSE': [lr_rmse, dt_rmse, rf_rmse, gb_rmse, xgb_rmse],\n",
    "                'R2 score': [lr_r2, dt_r2, rf_r2, gb_r2, xgb_r2]}\n",
    "\n",
    "summary = pd.DataFrame(data=summary_dict, index=['Linear regression', 'Decision Tree', 'Random forest', 'Gradient boosting', 'XGBRegressor'])\n",
    "summary"
   ]
  },
  {
   "cell_type": "code",
   "execution_count": 14,
   "id": "1589959c",
   "metadata": {
    "execution": {
     "iopub.execute_input": "2022-01-12T15:59:15.568476Z",
     "iopub.status.busy": "2022-01-12T15:59:15.567840Z",
     "iopub.status.idle": "2022-01-12T15:59:15.891997Z",
     "shell.execute_reply": "2022-01-12T15:59:15.892547Z",
     "shell.execute_reply.started": "2022-01-12T15:57:11.662357Z"
    },
    "papermill": {
     "duration": 0.351645,
     "end_time": "2022-01-12T15:59:15.892756",
     "exception": false,
     "start_time": "2022-01-12T15:59:15.541111",
     "status": "completed"
    },
    "tags": []
   },
   "outputs": [
    {
     "data": {
      "text/html": [
       "<div>\n",
       "<style scoped>\n",
       "    .dataframe tbody tr th:only-of-type {\n",
       "        vertical-align: middle;\n",
       "    }\n",
       "\n",
       "    .dataframe tbody tr th {\n",
       "        vertical-align: top;\n",
       "    }\n",
       "\n",
       "    .dataframe thead th {\n",
       "        text-align: right;\n",
       "    }\n",
       "</style>\n",
       "<table border=\"1\" class=\"dataframe\">\n",
       "  <thead>\n",
       "    <tr style=\"text-align: right;\">\n",
       "      <th></th>\n",
       "      <th>SalePrice</th>\n",
       "    </tr>\n",
       "  </thead>\n",
       "  <tbody>\n",
       "    <tr>\n",
       "      <th>0</th>\n",
       "      <td>124380.823961</td>\n",
       "    </tr>\n",
       "    <tr>\n",
       "      <th>1</th>\n",
       "      <td>155252.966953</td>\n",
       "    </tr>\n",
       "    <tr>\n",
       "      <th>2</th>\n",
       "      <td>174438.659674</td>\n",
       "    </tr>\n",
       "    <tr>\n",
       "      <th>3</th>\n",
       "      <td>179577.632018</td>\n",
       "    </tr>\n",
       "    <tr>\n",
       "      <th>4</th>\n",
       "      <td>195770.345626</td>\n",
       "    </tr>\n",
       "    <tr>\n",
       "      <th>...</th>\n",
       "      <td>...</td>\n",
       "    </tr>\n",
       "    <tr>\n",
       "      <th>1454</th>\n",
       "      <td>66812.286302</td>\n",
       "    </tr>\n",
       "    <tr>\n",
       "      <th>1455</th>\n",
       "      <td>85392.390564</td>\n",
       "    </tr>\n",
       "    <tr>\n",
       "      <th>1456</th>\n",
       "      <td>184197.503778</td>\n",
       "    </tr>\n",
       "    <tr>\n",
       "      <th>1457</th>\n",
       "      <td>117927.693990</td>\n",
       "    </tr>\n",
       "    <tr>\n",
       "      <th>1458</th>\n",
       "      <td>232597.735208</td>\n",
       "    </tr>\n",
       "  </tbody>\n",
       "</table>\n",
       "<p>1459 rows × 1 columns</p>\n",
       "</div>"
      ],
      "text/plain": [
       "          SalePrice\n",
       "0     124380.823961\n",
       "1     155252.966953\n",
       "2     174438.659674\n",
       "3     179577.632018\n",
       "4     195770.345626\n",
       "...             ...\n",
       "1454   66812.286302\n",
       "1455   85392.390564\n",
       "1456  184197.503778\n",
       "1457  117927.693990\n",
       "1458  232597.735208\n",
       "\n",
       "[1459 rows x 1 columns]"
      ]
     },
     "execution_count": 14,
     "metadata": {},
     "output_type": "execute_result"
    }
   ],
   "source": [
    "# Predict the test set\n",
    "gb_pipe.fit(X_train, y_train)\n",
    "test_pred = gb_pipe.predict(df_test)\n",
    "test_pred = pd.DataFrame(test_pred, columns=['SalePrice'])\n",
    "test_pred"
   ]
  },
  {
   "cell_type": "code",
   "execution_count": 15,
   "id": "309792ed",
   "metadata": {
    "execution": {
     "iopub.execute_input": "2022-01-12T15:59:15.939049Z",
     "iopub.status.busy": "2022-01-12T15:59:15.938401Z",
     "iopub.status.idle": "2022-01-12T15:59:15.968526Z",
     "shell.execute_reply": "2022-01-12T15:59:15.969056Z",
     "shell.execute_reply.started": "2022-01-12T15:57:12.012802Z"
    },
    "papermill": {
     "duration": 0.056063,
     "end_time": "2022-01-12T15:59:15.969222",
     "exception": false,
     "start_time": "2022-01-12T15:59:15.913159",
     "status": "completed"
    },
    "tags": []
   },
   "outputs": [
    {
     "data": {
      "text/html": [
       "<div>\n",
       "<style scoped>\n",
       "    .dataframe tbody tr th:only-of-type {\n",
       "        vertical-align: middle;\n",
       "    }\n",
       "\n",
       "    .dataframe tbody tr th {\n",
       "        vertical-align: top;\n",
       "    }\n",
       "\n",
       "    .dataframe thead th {\n",
       "        text-align: right;\n",
       "    }\n",
       "</style>\n",
       "<table border=\"1\" class=\"dataframe\">\n",
       "  <thead>\n",
       "    <tr style=\"text-align: right;\">\n",
       "      <th></th>\n",
       "      <th>Id</th>\n",
       "      <th>SalePrice</th>\n",
       "    </tr>\n",
       "  </thead>\n",
       "  <tbody>\n",
       "    <tr>\n",
       "      <th>0</th>\n",
       "      <td>1461</td>\n",
       "      <td>124380.823961</td>\n",
       "    </tr>\n",
       "    <tr>\n",
       "      <th>1</th>\n",
       "      <td>1462</td>\n",
       "      <td>155252.966953</td>\n",
       "    </tr>\n",
       "    <tr>\n",
       "      <th>2</th>\n",
       "      <td>1463</td>\n",
       "      <td>174438.659674</td>\n",
       "    </tr>\n",
       "    <tr>\n",
       "      <th>3</th>\n",
       "      <td>1464</td>\n",
       "      <td>179577.632018</td>\n",
       "    </tr>\n",
       "    <tr>\n",
       "      <th>4</th>\n",
       "      <td>1465</td>\n",
       "      <td>195770.345626</td>\n",
       "    </tr>\n",
       "  </tbody>\n",
       "</table>\n",
       "</div>"
      ],
      "text/plain": [
       "     Id      SalePrice\n",
       "0  1461  124380.823961\n",
       "1  1462  155252.966953\n",
       "2  1463  174438.659674\n",
       "3  1464  179577.632018\n",
       "4  1465  195770.345626"
      ]
     },
     "execution_count": 15,
     "metadata": {},
     "output_type": "execute_result"
    }
   ],
   "source": [
    "# Get the 'Id' column from the original test dataset\n",
    "# Combine 'Id' and the prediction into a new dataframe\n",
    "test_id = pd.read_csv('../input/house-prices-advanced-regression-techniques/test.csv')['Id']\n",
    "\n",
    "result = pd.concat([test_id, test_pred], axis=1)\n",
    "result.head()"
   ]
  },
  {
   "cell_type": "code",
   "execution_count": 16,
   "id": "aeaf82d7",
   "metadata": {
    "execution": {
     "iopub.execute_input": "2022-01-12T15:59:16.015586Z",
     "iopub.status.busy": "2022-01-12T15:59:16.014567Z",
     "iopub.status.idle": "2022-01-12T15:59:16.024827Z",
     "shell.execute_reply": "2022-01-12T15:59:16.025289Z",
     "shell.execute_reply.started": "2022-01-12T15:57:12.048467Z"
    },
    "papermill": {
     "duration": 0.035413,
     "end_time": "2022-01-12T15:59:16.025454",
     "exception": false,
     "start_time": "2022-01-12T15:59:15.990041",
     "status": "completed"
    },
    "tags": []
   },
   "outputs": [],
   "source": [
    "result.to_csv('submission.csv', index=False)"
   ]
  }
 ],
 "metadata": {
  "kernelspec": {
   "display_name": "Python 3",
   "language": "python",
   "name": "python3"
  },
  "language_info": {
   "codemirror_mode": {
    "name": "ipython",
    "version": 3
   },
   "file_extension": ".py",
   "mimetype": "text/x-python",
   "name": "python",
   "nbconvert_exporter": "python",
   "pygments_lexer": "ipython3",
   "version": "3.7.10"
  },
  "papermill": {
   "default_parameters": {},
   "duration": 44.346936,
   "end_time": "2022-01-12T15:59:16.755442",
   "environment_variables": {},
   "exception": null,
   "input_path": "__notebook__.ipynb",
   "output_path": "__notebook__.ipynb",
   "parameters": {},
   "start_time": "2022-01-12T15:58:32.408506",
   "version": "2.3.3"
  }
 },
 "nbformat": 4,
 "nbformat_minor": 5
}
